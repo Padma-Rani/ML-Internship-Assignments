{
 "cells": [
  {
   "cell_type": "markdown",
   "id": "81c25cfc",
   "metadata": {},
   "source": [
    "Day 05 (Dt-20/05/25)"
   ]
  },
  {
   "cell_type": "markdown",
   "id": "78791e17",
   "metadata": {},
   "source": [
    "### OPERATORS"
   ]
  },
  {
   "cell_type": "markdown",
   "id": "c3762a3d",
   "metadata": {},
   "source": [
    "#### membership operator \n"
   ]
  },
  {
   "cell_type": "code",
   "execution_count": 1,
   "id": "40eaf714",
   "metadata": {},
   "outputs": [
    {
     "name": "stdout",
     "output_type": "stream",
     "text": [
      "0\n",
      "1\n",
      "2\n",
      "3\n",
      "4\n"
     ]
    }
   ],
   "source": [
    "x=500\n",
    "for x in range (0,5):\n",
    "    print(x)"
   ]
  },
  {
   "cell_type": "markdown",
   "id": "db8b7445",
   "metadata": {},
   "source": [
    "#### Arithmetic Operator\n"
   ]
  },
  {
   "cell_type": "code",
   "execution_count": 3,
   "id": "426eaac5",
   "metadata": {},
   "outputs": [
    {
     "name": "stdout",
     "output_type": "stream",
     "text": [
      "4000\n"
     ]
    }
   ],
   "source": [
    "# Adding two integers\n",
    "\n",
    "income = 1000\n",
    "incentives=3000\n",
    "total_income=income+incentives\n",
    "print(total_income)"
   ]
  },
  {
   "cell_type": "code",
   "execution_count": 4,
   "id": "fbd8394f",
   "metadata": {},
   "outputs": [
    {
     "name": "stdout",
     "output_type": "stream",
     "text": [
      "10005.0\n"
     ]
    }
   ],
   "source": [
    "# Adding one float & one integer values\n",
    "\n",
    "income=10000\n",
    "incentives=5.0\n",
    "total=income+incentives\n",
    "print(total)"
   ]
  },
  {
   "cell_type": "markdown",
   "id": "d3d0a9f8",
   "metadata": {},
   "source": [
    "#### Relational Operators"
   ]
  },
  {
   "cell_type": "code",
   "execution_count": null,
   "id": "b9963181",
   "metadata": {},
   "outputs": [
    {
     "data": {
      "text/plain": [
       "False"
      ]
     },
     "execution_count": 8,
     "metadata": {},
     "output_type": "execute_result"
    }
   ],
   "source": [
    "# Declare Two Variables \n",
    "\n",
    "ketty_age=28\n",
    "kitty_age=25\n",
    "ketty_age==kitty_age"
   ]
  },
  {
   "cell_type": "code",
   "execution_count": 9,
   "id": "15905972",
   "metadata": {},
   "outputs": [
    {
     "data": {
      "text/plain": [
       "False"
      ]
     },
     "execution_count": 9,
     "metadata": {},
     "output_type": "execute_result"
    }
   ],
   "source": [
    "ketty_age<=kitty_age"
   ]
  },
  {
   "cell_type": "code",
   "execution_count": 10,
   "id": "47ab11f2",
   "metadata": {},
   "outputs": [
    {
     "data": {
      "text/plain": [
       "True"
      ]
     },
     "execution_count": 10,
     "metadata": {},
     "output_type": "execute_result"
    }
   ],
   "source": [
    "ketty_age >= kitty_age"
   ]
  },
  {
   "cell_type": "markdown",
   "id": "cfca506a",
   "metadata": {},
   "source": [
    "#### LOGICAL Operator"
   ]
  },
  {
   "cell_type": "code",
   "execution_count": 12,
   "id": "1bbeceed",
   "metadata": {},
   "outputs": [
    {
     "name": "stdout",
     "output_type": "stream",
     "text": [
      "False\n"
     ]
    }
   ],
   "source": [
    "a=True\n",
    "b=False\n",
    "\n",
    "print(a and b)"
   ]
  },
  {
   "cell_type": "code",
   "execution_count": 13,
   "id": "3cbdbded",
   "metadata": {},
   "outputs": [
    {
     "name": "stdout",
     "output_type": "stream",
     "text": [
      "True\n",
      "False\n",
      "False\n",
      "False\n",
      "True\n"
     ]
    }
   ],
   "source": [
    "print(a or b)\n",
    "print(b or b)\n",
    "print(b and b)\n",
    "print(not a)\n",
    "print(not b)"
   ]
  },
  {
   "cell_type": "markdown",
   "id": "cde9ae1b",
   "metadata": {},
   "source": [
    "#### Bitwise Operator\n"
   ]
  },
  {
   "cell_type": "code",
   "execution_count": 14,
   "id": "530d6642",
   "metadata": {},
   "outputs": [
    {
     "data": {
      "text/plain": [
       "False"
      ]
     },
     "execution_count": 14,
     "metadata": {},
     "output_type": "execute_result"
    }
   ],
   "source": [
    "# & operator\n",
    "\n",
    "num = 10\n",
    "(num % 2 == 0) & (num % 3 == 0)"
   ]
  },
  {
   "cell_type": "code",
   "execution_count": 15,
   "id": "e445d662",
   "metadata": {},
   "outputs": [
    {
     "data": {
      "text/plain": [
       "True"
      ]
     },
     "execution_count": 15,
     "metadata": {},
     "output_type": "execute_result"
    }
   ],
   "source": [
    "# | or operator\n",
    "num= 10\n",
    "(num % 2==0)|(num % 3==0)"
   ]
  },
  {
   "cell_type": "markdown",
   "id": "ba10f889",
   "metadata": {},
   "source": [
    "#### IF Statement"
   ]
  },
  {
   "cell_type": "code",
   "execution_count": 16,
   "id": "86b34694",
   "metadata": {},
   "outputs": [
    {
     "name": "stdout",
     "output_type": "stream",
     "text": [
      "8 is greater than zero\n",
      "This is always printed\n"
     ]
    }
   ],
   "source": [
    "# check if a no. is greater than zero\n",
    "num= 8\n",
    "if(num>0):\n",
    "    print(num,\"is greater than zero\")\n",
    "print(\"This is always printed\")"
   ]
  },
  {
   "cell_type": "code",
   "execution_count": 17,
   "id": "4651710e",
   "metadata": {},
   "outputs": [
    {
     "name": "stdout",
     "output_type": "stream",
     "text": [
      "This is always printed\n"
     ]
    }
   ],
   "source": [
    "# check if a no. is greater than zero\n",
    "\n",
    "num =-1\n",
    "if(num>0):\n",
    "    print(num,\"is greater than zero\")\n",
    "print(\"This is always printed\")"
   ]
  },
  {
   "cell_type": "code",
   "execution_count": 18,
   "id": "fbf63734",
   "metadata": {},
   "outputs": [
    {
     "name": "stdout",
     "output_type": "stream",
     "text": [
      "-1 is less than zero\n",
      "This is always printed\n"
     ]
    }
   ],
   "source": [
    "# check if a no. is greater than zero\n",
    "\n",
    "num =-1\n",
    "if(num>0):\n",
    "    print(num,\"is greater than zero\")\n",
    "else:\n",
    "        print(num,\"is less than zero\")\n",
    "print(\"This is always printed\")"
   ]
  },
  {
   "cell_type": "code",
   "execution_count": 19,
   "id": "b3a428fa",
   "metadata": {},
   "outputs": [
    {
     "name": "stdout",
     "output_type": "stream",
     "text": [
      "8 is greater than zero\n",
      "This is always printed\n"
     ]
    }
   ],
   "source": [
    "# check if a no. is greater than zero\n",
    "num= 8\n",
    "if(num>0):\n",
    "    print(num,\"is greater than zero\")\n",
    "else:\n",
    "        print(num,\"is less than zero\")\n",
    "\n",
    "print(\"This is always printed\")"
   ]
  },
  {
   "cell_type": "code",
   "execution_count": 20,
   "id": "7c194459",
   "metadata": {},
   "outputs": [
    {
     "name": "stdout",
     "output_type": "stream",
     "text": [
      "Free\n"
     ]
    }
   ],
   "source": [
    "# display bus fares as per age entered by user\n",
    "\n",
    "age = int(input(\"Enter Age;\"))\n",
    "if(0,age<3):\n",
    "    print(\"Free\")\n",
    "elif(3<age<10):\n",
    "    print(\"Bus fare is 20\")\n",
    "elif(10<age<20):\n",
    "    print(\"Bus fare is 25\")\n",
    "else:\n",
    "    print(\"Bus fare is 30\")\n"
   ]
  },
  {
   "cell_type": "code",
   "execution_count": 26,
   "id": "b8ab7b66",
   "metadata": {},
   "outputs": [
    {
     "name": "stdout",
     "output_type": "stream",
     "text": [
      "67 is the greatest number\n"
     ]
    }
   ],
   "source": [
    "#Greatest Number among 3 numbers\n",
    "\n",
    "num1 = int(input(\"Enter first number:\"))\n",
    "num2 = int(input(\"Enter second number:\"))\n",
    "num3 = int(input(\"Enter third number:\"))\n",
    "if(num1>num2) and (num1>num3):\n",
    "    print(num1,\"is the greatest number\")\n",
    "elif(num2>num1) and (num2>num3):\n",
    "    print(num2,\"is the greatest number\")\n",
    "else:\n",
    "    print(num3,\"is the greatest number\")"
   ]
  },
  {
   "cell_type": "code",
   "execution_count": 27,
   "id": "762025b6",
   "metadata": {},
   "outputs": [
    {
     "name": "stdout",
     "output_type": "stream",
     "text": [
      "100 is greater\n"
     ]
    }
   ],
   "source": [
    "no1=100\n",
    "no2=30\n",
    "no3=500\n",
    "if (no1 > no2):\n",
    "    print(no1,\"is greater\")\n",
    "else:\n",
    "    if(no3>no2):\n",
    "        print(no3,\"is greater\")\n",
    "    else:\n",
    "        print(no2,\"is greater\")\n"
   ]
  },
  {
   "cell_type": "code",
   "execution_count": 28,
   "id": "63e8c773",
   "metadata": {},
   "outputs": [
    {
     "name": "stdout",
     "output_type": "stream",
     "text": [
      "Addition is : 55\n"
     ]
    }
   ],
   "source": [
    "# Find Summation of all nutural numbers till 10\n",
    "\n",
    "num=10\n",
    "\n",
    "# initialize addition and counter\n",
    "addition=0\n",
    "i=1\n",
    "while(i<=num):\n",
    "    addition=addition+i\n",
    "    i=i+1\n",
    "# print sum\n",
    "print(\"Addition is :\",addition)"
   ]
  },
  {
   "cell_type": "code",
   "execution_count": 29,
   "id": "db55542a",
   "metadata": {},
   "outputs": [
    {
     "name": "stdout",
     "output_type": "stream",
     "text": [
      "Addition is : 55\n"
     ]
    }
   ],
   "source": [
    "# Find Summation of all nutural numbers till 10FOR LOOP\n",
    "num=range(1,11)\n",
    "addition=0\n",
    "for i in num: #i takes one value at a time from 1 till 10 after every single iteration\n",
    "    addition= addition+i #previouc value of addition is added to the new value taken by i from the iterable\n",
    "print(\"Addition is :\",addition)"
   ]
  }
 ],
 "metadata": {
  "kernelspec": {
   "display_name": "base",
   "language": "python",
   "name": "python3"
  },
  "language_info": {
   "codemirror_mode": {
    "name": "ipython",
    "version": 3
   },
   "file_extension": ".py",
   "mimetype": "text/x-python",
   "name": "python",
   "nbconvert_exporter": "python",
   "pygments_lexer": "ipython3",
   "version": "3.11.5"
  }
 },
 "nbformat": 4,
 "nbformat_minor": 5
}
