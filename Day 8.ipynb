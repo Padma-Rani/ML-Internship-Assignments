{
 "cells": [
  {
   "cell_type": "markdown",
   "id": "63aeb2d6",
   "metadata": {},
   "source": [
    "### 1.create an object car and print its brand"
   ]
  },
  {
   "cell_type": "code",
   "execution_count": 5,
   "id": "1b9386bd",
   "metadata": {},
   "outputs": [
    {
     "name": "stdout",
     "output_type": "stream",
     "text": [
      "Maruti\n"
     ]
    }
   ],
   "source": [
    "# 1.create an object car and print its brand\n",
    "class Car:\n",
    "    def __init__(self,brand,model):\n",
    "        self.brand=brand\n",
    "        self.model=model\n",
    "mycar=Car(\"Maruti\",\"Xyz\")\n",
    "print(mycar.brand)\n"
   ]
  },
  {
   "cell_type": "code",
   "execution_count": 10,
   "id": "eade685c",
   "metadata": {},
   "outputs": [
    {
     "name": "stdout",
     "output_type": "stream",
     "text": [
      "Maruti\n"
     ]
    }
   ],
   "source": [
    "# change the model of the car using a setter and print\n",
    "\n",
    "class Car:\n",
    "    def __init__(self,brand,model):\n",
    "        self.brand=brand\n",
    "        self.__model=model  #__private_var \n",
    "    def get_model(self):     #getter function\n",
    "        return self.__model\n",
    "mycar=Car(\"Maruti\",\"Xyz\")\n",
    "print(mycar.brand)"
   ]
  },
  {
   "cell_type": "code",
   "execution_count": 14,
   "id": "6b8e7625",
   "metadata": {},
   "outputs": [
    {
     "name": "stdout",
     "output_type": "stream",
     "text": [
      "Xyz\n",
      "Nano\n"
     ]
    }
   ],
   "source": [
    "class Car:\n",
    "    def __init__(self,brand,model):\n",
    "        self.brand=brand\n",
    "        self.__model=model  #__private_var \n",
    "    def get_model(self):     #getter function\n",
    "        return self.__model\n",
    "    def set_model(self,new_value):  #Setter function \n",
    "        self.__model=new_value\n",
    "mycar=Car(\"Maruti\",\"Xyz\")\n",
    "print(mycar.get_model())\n",
    "mycar.set_model(\"Nano\")\n",
    "print(mycar.get_model())"
   ]
  },
  {
   "cell_type": "code",
   "execution_count": 23,
   "id": "bd39e80b",
   "metadata": {},
   "outputs": [
    {
     "name": "stdout",
     "output_type": "stream",
     "text": [
      "Toyoto engine is started\n"
     ]
    }
   ],
   "source": [
    "# Create a class vehicle and create a method to start the engine \n",
    "# concept of inheritance \n",
    "# patrent class \n",
    "class Vehicle:\n",
    "    def start_engine(self):\n",
    "        pass\n",
    "# child class\n",
    "class Car(Vehicle):\n",
    "    def __init__(self,brand,model,year):\n",
    "        self.brand=brand\n",
    "        self.__model=model  #__private_var \n",
    "        self.year=year\n",
    "        self.is_running=False\n",
    "\n",
    "    def get_model(self):     #getter function\n",
    "        return self.__model\n",
    "    \n",
    "    def set_model(self,new_value):  #Setter function \n",
    "        self.__model=new_value\n",
    "    \n",
    "    def start_engine(self):\n",
    "        self.is_running=True\n",
    "        print(f\"{self.__model} engine is started\")\n",
    "\n",
    "mycar=Car(\"Tata\",\"Toyoto\",2021)\n",
    "mycar.start_engine()"
   ]
  },
  {
   "cell_type": "code",
   "execution_count": 39,
   "id": "1fa3fd6b",
   "metadata": {},
   "outputs": [
    {
     "name": "stdout",
     "output_type": "stream",
     "text": [
      "The electric car started.\n"
     ]
    },
    {
     "ename": "AttributeError",
     "evalue": "'ElectricCar' object has no attribute 'ElectricCar'",
     "output_type": "error",
     "traceback": [
      "\u001b[1;31m---------------------------------------------------------------------------\u001b[0m",
      "\u001b[1;31mAttributeError\u001b[0m                            Traceback (most recent call last)",
      "Cell \u001b[1;32mIn[39], line 13\u001b[0m\n\u001b[0;32m     11\u001b[0m                \u001b[38;5;28mprint\u001b[39m(\u001b[38;5;124mf\u001b[39m\u001b[38;5;124m\"\u001b[39m\u001b[38;5;132;01m{\u001b[39;00m\u001b[38;5;28mself\u001b[39m\u001b[38;5;241m.\u001b[39m__model\u001b[38;5;132;01m}\u001b[39;00m\u001b[38;5;124m engine is started\u001b[39m\u001b[38;5;124m\"\u001b[39m)\n\u001b[0;32m     12\u001b[0m my_car\u001b[38;5;241m.\u001b[39mstart()\n\u001b[1;32m---> 13\u001b[0m my_car\u001b[38;5;241m.\u001b[39mElectricCar(Car)\n",
      "\u001b[1;31mAttributeError\u001b[0m: 'ElectricCar' object has no attribute 'ElectricCar'"
     ]
    }
   ],
   "source": [
    "# Create a subclass Electric car and override the start method\n",
    "\n",
    "# parent class\n",
    "class Car:\n",
    "    def start(self):\n",
    "        print(\"The car's engine started.\")\n",
    "\n",
    "# Subclass\n",
    "class ElectricCar(Car):\n",
    "    def start(self):\n",
    "               print(f\"{self.__model} engine is started\")\n",
    "my_car.start()\n",
    "my_car.ElectricCar(Car)\n",
    "\n"
   ]
  },
  {
   "cell_type": "code",
   "execution_count": 38,
   "id": "74ea1e13",
   "metadata": {},
   "outputs": [
    {
     "name": "stdout",
     "output_type": "stream",
     "text": [
      "Toyoto engine is started\n",
      "model s engine is started \n"
     ]
    }
   ],
   "source": [
    "class Vehicle:\n",
    "    def start_engine(self):\n",
    "        pass\n",
    "# child class\n",
    "class Car(Vehicle):\n",
    "    def __init__(self,brand,model,year):\n",
    "        self.brand=brand\n",
    "        self.__model=model  #__private_var \n",
    "        self.year=year\n",
    "        self.is_running=False\n",
    "\n",
    "    def get_model(self):     #getter function\n",
    "        return self.__model\n",
    "    \n",
    "    def set_model(self,new_value):  #Setter function \n",
    "        self.__model=new_value\n",
    "    \n",
    "    def start_engine(self):\n",
    "        self.is_running=True\n",
    "        print(f\"{self.__model} engine is started\")\n",
    "\n",
    "class ElectricCar(Car):\n",
    "    def start_engine(self):\n",
    "        print(f\"{self.get_model()} engine is started \")\n",
    "\n",
    "\n",
    "mycar=Car(\"Tata\",\"Toyoto\",2021)\n",
    "mycar.start_engine()\n",
    "\n",
    "my_electric_car=ElectricCar(\"Tesla\",\"model s\",2023)\n",
    "my_electric_car.start_engine()\n"
   ]
  },
  {
   "cell_type": "code",
   "execution_count": 41,
   "id": "e471c9eb",
   "metadata": {},
   "outputs": [
    {
     "name": "stdout",
     "output_type": "stream",
     "text": [
      "Toyoto engine is started\n",
      "model s engine is started \n",
      "Total car = 2\n"
     ]
    }
   ],
   "source": [
    "# count of no of total cars  in class car\n",
    "\n",
    "class Vehicle:\n",
    "    total_car=0\n",
    "    def start_engine(self):\n",
    "        pass\n",
    "# child class\n",
    "class Car(Vehicle):\n",
    "    def __init__(self,brand,model,year):\n",
    "        self.brand=brand\n",
    "        self.__model=model  #__private_var \n",
    "        self.year=year\n",
    "        self.is_running=False\n",
    "        Car.total_car+=1\n",
    "\n",
    "    def get_model(self):     #getter function\n",
    "        return self.__model\n",
    "    \n",
    "    def set_model(self,new_value):  #Setter function \n",
    "        self.__model=new_value\n",
    "    \n",
    "    def start_engine(self):\n",
    "        self.is_running=True\n",
    "        print(f\"{self.__model} engine is started\")\n",
    "\n",
    "class ElectricCar(Car):\n",
    "    def start_engine(self):\n",
    "        print(f\"{self.get_model()} engine is started \")\n",
    "\n",
    "\n",
    "mycar1=Car(\"Tata\",\"Toyoto\",2021)\n",
    "mycar1.start_engine()\n",
    "\n",
    "my_electric_car=ElectricCar(\"Tesla\",\"model s\",2023)\n",
    "my_electric_car.start_engine()\n",
    "print(\"Total car =\",Car.total_car)"
   ]
  },
  {
   "cell_type": "code",
   "execution_count": null,
   "id": "555681fe",
   "metadata": {},
   "outputs": [],
   "source": []
  }
 ],
 "metadata": {
  "kernelspec": {
   "display_name": "base",
   "language": "python",
   "name": "python3"
  },
  "language_info": {
   "codemirror_mode": {
    "name": "ipython",
    "version": 3
   },
   "file_extension": ".py",
   "mimetype": "text/x-python",
   "name": "python",
   "nbconvert_exporter": "python",
   "pygments_lexer": "ipython3",
   "version": "3.11.5"
  }
 },
 "nbformat": 4,
 "nbformat_minor": 5
}
