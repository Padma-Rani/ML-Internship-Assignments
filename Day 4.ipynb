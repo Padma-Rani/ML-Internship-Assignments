{
 "cells": [
  {
   "cell_type": "markdown",
   "id": "9084a2c7",
   "metadata": {},
   "source": [
    "Day 04 (Date:19/05/25)"
   ]
  },
  {
   "cell_type": "markdown",
   "id": "e0493788",
   "metadata": {
    "vscode": {
     "languageId": "plaintext"
    }
   },
   "source": [
    "## Variables "
   ]
  },
  {
   "cell_type": "code",
   "execution_count": 1,
   "id": "a9e4406e",
   "metadata": {},
   "outputs": [
    {
     "name": "stdout",
     "output_type": "stream",
     "text": [
      "25\n"
     ]
    }
   ],
   "source": [
    "x=25\n",
    "print(x)"
   ]
  },
  {
   "cell_type": "code",
   "execution_count": 2,
   "id": "8059cc77",
   "metadata": {},
   "outputs": [
    {
     "data": {
      "text/plain": [
       "'Padma'"
      ]
     },
     "execution_count": 2,
     "metadata": {},
     "output_type": "execute_result"
    }
   ],
   "source": [
    "# name variable\n",
    "name='Padma'\n",
    "name"
   ]
  },
  {
   "cell_type": "code",
   "execution_count": 3,
   "id": "aab430b9",
   "metadata": {},
   "outputs": [
    {
     "data": {
      "text/plain": [
       "'ravi'"
      ]
     },
     "execution_count": 3,
     "metadata": {},
     "output_type": "execute_result"
    }
   ],
   "source": [
    "# multiple variables\n",
    "\n",
    "x=40\n",
    "x='ravi'  #only the recent value is printed in case of multiple values of a variable\n",
    "x "
   ]
  },
  {
   "cell_type": "markdown",
   "id": "a63a4816",
   "metadata": {},
   "source": [
    "## String"
   ]
  },
  {
   "cell_type": "code",
   "execution_count": 4,
   "id": "addeb5cf",
   "metadata": {},
   "outputs": [
    {
     "data": {
      "text/plain": [
       "('Hello World', 'hello', 'HELLO')"
      ]
     },
     "execution_count": 4,
     "metadata": {},
     "output_type": "execute_result"
    }
   ],
   "source": [
    "# String\n",
    "str_name1='Hello World'\n",
    "str_name2=\"hello\"\n",
    "str_name3='''HELLO'''\n",
    "# print\n",
    "str_name1,str_name2,str_name3"
   ]
  }
 ],
 "metadata": {
  "kernelspec": {
   "display_name": "base",
   "language": "python",
   "name": "python3"
  },
  "language_info": {
   "codemirror_mode": {
    "name": "ipython",
    "version": 3
   },
   "file_extension": ".py",
   "mimetype": "text/x-python",
   "name": "python",
   "nbconvert_exporter": "python",
   "pygments_lexer": "ipython3",
   "version": "3.11.5"
  }
 },
 "nbformat": 4,
 "nbformat_minor": 5
}
