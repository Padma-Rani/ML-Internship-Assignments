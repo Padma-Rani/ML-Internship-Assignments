{
 "cells": [
  {
   "cell_type": "markdown",
   "id": "eb518db8",
   "metadata": {},
   "source": [
    "## day 7 (Dt:22/05/25)\n"
   ]
  },
  {
   "cell_type": "markdown",
   "id": "7b2b8dea",
   "metadata": {},
   "source": [
    "### Functions\n"
   ]
  },
  {
   "cell_type": "code",
   "execution_count": 1,
   "id": "b903c8ee",
   "metadata": {},
   "outputs": [
    {
     "name": "stdout",
     "output_type": "stream",
     "text": [
      "7\n"
     ]
    }
   ],
   "source": [
    "# write a function to calculate and return sum of two numbers \n",
    "\n",
    "def add(a,b):\n",
    "    sum=a+b\n",
    "    return sum\n",
    "print(add(3,4))"
   ]
  },
  {
   "cell_type": "code",
   "execution_count": 7,
   "id": "cbeb0641",
   "metadata": {},
   "outputs": [
    {
     "name": "stdout",
     "output_type": "stream",
     "text": [
      "area of circle= 50.24\n",
      "Circumference = 25.12\n"
     ]
    }
   ],
   "source": [
    "# Create a function that return both area and circumference of a circle\n",
    "# given its radius\n",
    "\n",
    "def circle(r):\n",
    "  \n",
    "    area=3.14*r*r\n",
    "    print(\"area of circle=\",area)\n",
    "    circumference=2*3.14*r\n",
    "    print(\"Circumference =\",circumference)\n",
    "c=int(input(\"Radius=\"))\n",
    "circle(c)"
   ]
  },
  {
   "cell_type": "code",
   "execution_count": 8,
   "id": "8b64c0b0",
   "metadata": {},
   "outputs": [
    {
     "name": "stdout",
     "output_type": "stream",
     "text": [
      "Hello Abhi\n",
      "Hello john\n"
     ]
    }
   ],
   "source": [
    "# write a function that greet a user if no name is provided is should greet with default name \n",
    "\n",
    "def greet(name=\"john\"):\n",
    "    print(\"Hello\",name)\n",
    "\n",
    "greet(\"Abhi\")\n",
    "greet()"
   ]
  },
  {
   "cell_type": "code",
   "execution_count": 9,
   "id": "7fda9e90",
   "metadata": {},
   "outputs": [
    {
     "name": "stdout",
     "output_type": "stream",
     "text": [
      "2187\n"
     ]
    }
   ],
   "source": [
    "# cube of numbers \n",
    "cube=lambda x: x**7\n",
    "print(cube(3))"
   ]
  },
  {
   "cell_type": "code",
   "execution_count": 10,
   "id": "fffa59ba",
   "metadata": {},
   "outputs": [
    {
     "name": "stdout",
     "output_type": "stream",
     "text": [
      "3\n"
     ]
    }
   ],
   "source": [
    "# sums\n",
    "s=lambda x: x+1\n",
    "print(s(2))"
   ]
  },
  {
   "cell_type": "code",
   "execution_count": 11,
   "id": "3f144e1b",
   "metadata": {},
   "outputs": [
    {
     "name": "stdout",
     "output_type": "stream",
     "text": [
      "<class 'tuple'>\n",
      "6\n",
      "<class 'tuple'>\n",
      "15\n",
      "<class 'tuple'>\n",
      "36\n"
     ]
    }
   ],
   "source": [
    "# write a function that takes variable number of arguments\n",
    "# return their sum\n",
    "\n",
    "def sum_all(*args):\n",
    "    print(type(args))\n",
    "    s=0\n",
    "    for i in args:\n",
    "        s=s+i\n",
    "    return s\n",
    "print(sum_all(1,2,3))\n",
    "print(sum_all(1,2,3,4,5))\n",
    "print(sum_all(1,2,3,4,5,6,7,8))"
   ]
  },
  {
   "cell_type": "code",
   "execution_count": 12,
   "id": "29c905e7",
   "metadata": {},
   "outputs": [
    {
     "name": "stdout",
     "output_type": "stream",
     "text": [
      "name=Anu\n",
      "age=24\n",
      "city=BBSR\n",
      "name=abhi\n",
      "age=20\n",
      "city=rkl\n",
      "name=Sita\n",
      "age=26\n",
      "city=Blr\n"
     ]
    }
   ],
   "source": [
    "# Create a function that accept any number of keyword arguments\n",
    "# and print them in the form of key=value\n",
    "\n",
    "def print_kwargs(**kwargs):\n",
    "    for key,value in kwargs.items():\n",
    "         print(f\"{key}={value}\")\n",
    "print_kwargs(name=\"Anu\",age=24,city=\"BBSR\")\n",
    "print_kwargs(name=\"abhi\",age=20,city=\"rkl\")\n",
    "print_kwargs(name=\"Sita\",age=26,city=\"Blr\")"
   ]
  },
  {
   "cell_type": "code",
   "execution_count": 15,
   "id": "72c5ba40",
   "metadata": {},
   "outputs": [
    {
     "data": {
      "text/plain": [
       "120"
      ]
     },
     "execution_count": 15,
     "metadata": {},
     "output_type": "execute_result"
    }
   ],
   "source": [
    "def fact(n):\n",
    "    f=1\n",
    "    if (n==0):\n",
    "        return 1\n",
    "    else:\n",
    "        f=n*fact(n-1)\n",
    "        return f\n",
    "fact(5)"
   ]
  },
  {
   "cell_type": "code",
   "execution_count": null,
   "id": "50896f48",
   "metadata": {},
   "outputs": [],
   "source": []
  }
 ],
 "metadata": {
  "kernelspec": {
   "display_name": "base",
   "language": "python",
   "name": "python3"
  },
  "language_info": {
   "codemirror_mode": {
    "name": "ipython",
    "version": 3
   },
   "file_extension": ".py",
   "mimetype": "text/x-python",
   "name": "python",
   "nbconvert_exporter": "python",
   "pygments_lexer": "ipython3",
   "version": "3.11.5"
  }
 },
 "nbformat": 4,
 "nbformat_minor": 5
}
