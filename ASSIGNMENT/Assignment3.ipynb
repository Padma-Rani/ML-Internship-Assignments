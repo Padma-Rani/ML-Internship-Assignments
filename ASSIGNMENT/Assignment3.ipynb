{
 "cells": [
  {
   "cell_type": "markdown",
   "id": "ffba787b",
   "metadata": {},
   "source": [
    "ASSIGNMENT 3"
   ]
  },
  {
   "cell_type": "markdown",
   "id": "b7feed5e",
   "metadata": {},
   "source": [
    "##### 1. Create a simple class `Person` with name and age as attributes. "
   ]
  },
  {
   "cell_type": "code",
   "execution_count": 4,
   "id": "09265f1b",
   "metadata": {},
   "outputs": [
    {
     "name": "stdout",
     "output_type": "stream",
     "text": [
      "Name entered: Rani \n",
      "Age entered: 22\n",
      "Name: Rani , Age: 22\n"
     ]
    }
   ],
   "source": [
    "class Person:\n",
    "    def __init__(self, name, age):\n",
    "        self.name = name\n",
    "        self.age = age\n",
    "\n",
    "name = input(\"Enter your name:\")\n",
    "print(\"Name entered:\", name)\n",
    "age = int(input(\"Enter your age:\"))\n",
    "print(\"Age entered:\", age)\n",
    "\n",
    "person = Person(name, age)\n",
    "print(f\"Name: {person.name}, Age: {person.age}\")    "
   ]
  },
  {
   "cell_type": "markdown",
   "id": "fc9a0cbc",
   "metadata": {},
   "source": [
    "#### 2. Add a method to the Person class that prints a greeting."
   ]
  },
  {
   "cell_type": "code",
   "execution_count": 10,
   "id": "3bde33ff",
   "metadata": {},
   "outputs": [
    {
     "name": "stdout",
     "output_type": "stream",
     "text": [
      "Hello, my name is Emma  and I am 24 years old.\n"
     ]
    }
   ],
   "source": [
    "class person:\n",
    "    def __init__(self, name, age):\n",
    "        self.name = name\n",
    "        self.age = age\n",
    "    def greet(self):\n",
    "        print(f\"Hello, my name is {self.name} and I am {self.age} years old.\")\n",
    "        \n",
    "name = input(\"Enter your name:\")\n",
    "age = int(input(\"Enter your age:\"))\n",
    "\n",
    "person= person(name, age)\n",
    "person.greet()"
   ]
  },
  {
   "cell_type": "markdown",
   "id": "f38e782d",
   "metadata": {},
   "source": [
    "#### 3. Create a class with a class variable and instance variable. "
   ]
  },
  {
   "cell_type": "code",
   "execution_count": 12,
   "id": "99d29786",
   "metadata": {},
   "outputs": [
    {
     "name": "stdout",
     "output_type": "stream",
     "text": [
      "Hermione Granger studies at Hogwarts and got grade A.\n",
      "Ron Weasley studies at Hogwarts and got grade B.\n"
     ]
    }
   ],
   "source": [
    "class Student:\n",
    "    school_name = \"Hogwarts\"  # class variable\n",
    "\n",
    "    def __init__(self, name, grade):\n",
    "        self.name = name      # instance variable\n",
    "        self.grade = grade    # instance variable\n",
    "\n",
    "student1 = Student(\"Hermione Granger\", \"A\")\n",
    "student2 = Student(\"Ron Weasley\", \"B\")\n",
    "\n",
    "print(f\"{student1.name} studies at {student1.school_name} and got grade {student1.grade}.\")\n",
    "print(f\"{student2.name} studies at {student2.school_name} and got grade {student2.grade}.\")"
   ]
  },
  {
   "cell_type": "markdown",
   "id": "fd2c2a3d",
   "metadata": {},
   "source": [
    "#### 4. Create a private attribute in a class and access it using a method. "
   ]
  },
  {
   "cell_type": "code",
   "execution_count": 14,
   "id": "09b2f777",
   "metadata": {},
   "outputs": [
    {
     "name": "stdout",
     "output_type": "stream",
     "text": [
      "The secret message is: A Secret Room in Hogwarts Only Appears When Needed.\n"
     ]
    }
   ],
   "source": [
    "class SecretMessage:\n",
    "    def __init__(self, message):\n",
    "        self.__message = message  # private attribute\n",
    "\n",
    "    def reveal_message(self):\n",
    "        return self.__message\n",
    "\n",
    "secret = SecretMessage(\"A Secret Room in Hogwarts Only Appears When Needed.\")\n",
    "print(\"The secret message is:\", secret.reveal_message())"
   ]
  },
  {
   "cell_type": "markdown",
   "id": "0e583f04",
   "metadata": {},
   "source": [
    "#### 5. Create a class with a method that returns the square of a number. "
   ]
  },
  {
   "cell_type": "code",
   "execution_count": 16,
   "id": "635055e5",
   "metadata": {},
   "outputs": [
    {
     "name": "stdout",
     "output_type": "stream",
     "text": [
      "The square of 5 is 25\n"
     ]
    }
   ],
   "source": [
    "class Square_of_number:\n",
    "    def __init__(self, number):\n",
    "        self.number = number\n",
    "    def square(self):\n",
    "        return self.number ** 2\n",
    "\n",
    "number = int(input(\"Enter a number to find its square: \"))\n",
    "result = Square_of_number(number)\n",
    "print(f\"The square of {number} is {result.square()}\")"
   ]
  },
  {
   "cell_type": "markdown",
   "id": "c1fa8c6b",
   "metadata": {},
   "source": [
    "#### 6. Create two objects of a class and demonstrate that they are independent. "
   ]
  },
  {
   "cell_type": "code",
   "execution_count": 17,
   "id": "208c3646",
   "metadata": {},
   "outputs": [
    {
     "name": "stdout",
     "output_type": "stream",
     "text": [
      "animal1 species: Lion\n",
      "animal2 species: Cat\n"
     ]
    }
   ],
   "source": [
    "class Animal:\n",
    "    def __init__(self, species):\n",
    "        self.species = species\n",
    "\n",
    "# Creating two independent objects\n",
    "animal1 = Animal(\"Dog\")\n",
    "animal2 = Animal(\"Cat\")\n",
    "\n",
    "# Changing attribute of one object\n",
    "animal1.species = \"Lion\"\n",
    "\n",
    "print(f\"animal1 species: {animal1.species}\")  \n",
    "print(f\"animal2 species: {animal2.species}\")  "
   ]
  },
  {
   "cell_type": "markdown",
   "id": "9e9ca863",
   "metadata": {},
   "source": [
    "#### 7. Create a class and use a method to set its attributes. "
   ]
  },
  {
   "cell_type": "code",
   "execution_count": 23,
   "id": "deff3cfa",
   "metadata": {},
   "outputs": [
    {
     "name": "stdout",
     "output_type": "stream",
     "text": [
      "Car brand: Toyota \n",
      "Model: Corolla\n"
     ]
    }
   ],
   "source": [
    "class Car:\n",
    "    def set_attributes(self, brand, model):\n",
    "        self.brand = brand\n",
    "        self.model = model\n",
    "\n",
    "car1 = Car()\n",
    "car1.set_attributes(\"Toyota\", \"Corolla\")\n",
    "print(f\"Car brand: {car1.brand} \\nModel: {car1.model}\")"
   ]
  },
  {
   "cell_type": "markdown",
   "id": "79250949",
   "metadata": {},
   "source": [
    "#### 8. Demonstrate use of `isinstance()` with a class. "
   ]
  },
  {
   "cell_type": "code",
   "execution_count": 31,
   "id": "76006f01",
   "metadata": {},
   "outputs": [
    {
     "name": "stdout",
     "output_type": "stream",
     "text": [
      "True\n",
      "True\n",
      "False\n"
     ]
    }
   ],
   "source": [
    "# # The isinstance(object, class) function checks whether an object is an instance of a specific class or a subclass\n",
    "class Vehicle:\n",
    "    def __init__(self, type):\n",
    "        self.type = type\n",
    "\n",
    "class Car(Vehicle):\n",
    "    def __init__(self, brand, model):\n",
    "        self.brand = brand\n",
    "        self.model = model\n",
    "\n",
    "car = Car(\"Toyota\", \"Corolla\")\n",
    "print(isinstance(car, Vehicle))\n",
    "print(isinstance(car, Car))\n",
    "print(isinstance(car, Student))  "
   ]
  },
  {
   "cell_type": "markdown",
   "id": "b49e7068",
   "metadata": {},
   "source": [
    "#### 9. Demonstrate single inheritance in Python. "
   ]
  },
  {
   "cell_type": "code",
   "execution_count": 33,
   "id": "bfe8b64b",
   "metadata": {},
   "outputs": [
    {
     "name": "stdout",
     "output_type": "stream",
     "text": [
      "Animal speaks\n",
      "Dog barks\n"
     ]
    }
   ],
   "source": [
    "# Single inheritance example: Child class inherits from one parent class\n",
    "\n",
    "class Animal:\n",
    "    def speak(self):\n",
    "        print(\"Animal speaks\")\n",
    "\n",
    "class Dog(Animal):\n",
    "    def bark(self):\n",
    "        print(\"Dog barks\")\n",
    "\n",
    "dog = Dog()\n",
    "dog.speak()  # inherited from Animal\n",
    "dog.bark()   "
   ]
  },
  {
   "cell_type": "markdown",
   "id": "23866411",
   "metadata": {},
   "source": [
    "#### 10. Create a base class and derive two child classes with different methods(multi-level inheritance)."
   ]
  },
  {
   "cell_type": "code",
   "execution_count": 34,
   "id": "da121a8d",
   "metadata": {},
   "outputs": [
    {
     "name": "stdout",
     "output_type": "stream",
     "text": [
      "Animal eats\n",
      "Mammal walks\n",
      "Dog barks\n"
     ]
    }
   ],
   "source": [
    "# Base class\n",
    "class Animal:\n",
    "    def eat(self):\n",
    "        print(\"Animal eats\")\n",
    "\n",
    "# First child class\n",
    "class Mammal(Animal):\n",
    "    def walk(self):\n",
    "        print(\"Mammal walks\")\n",
    "\n",
    "# Second child class (derived from Mammal)\n",
    "class Dog(Mammal):\n",
    "    def bark(self):\n",
    "        print(\"Dog barks\")\n",
    "\n",
    "d = Dog()\n",
    "d.eat()\n",
    "d.walk()\n",
    "d.bark()\n"
   ]
  },
  {
   "cell_type": "markdown",
   "id": "18717ed7",
   "metadata": {},
   "source": [
    "#### 11. Demonstrate method overriding in inheritance. "
   ]
  },
  {
   "cell_type": "code",
   "execution_count": null,
   "id": "c13d390a",
   "metadata": {},
   "outputs": [
    {
     "name": "stdout",
     "output_type": "stream",
     "text": [
      "Animal makes a sound\n",
      "Dog barks\n"
     ]
    }
   ],
   "source": [
    "class Animal:\n",
    "    def sound(self):\n",
    "        print(\"Animal makes a sound\")\n",
    "\n",
    "class Dog(Animal):\n",
    "    def sound(self):\n",
    "        print(\"Dog barks\")\n",
    "\n",
    "a = Animal()\n",
    "a.sound() \n",
    "\n",
    "d = Dog()\n",
    "d.sound() "
   ]
  },
  {
   "cell_type": "markdown",
   "id": "7ad4ba38",
   "metadata": {},
   "source": [
    "#### 12. Use `super()` to call a parent class method. "
   ]
  },
  {
   "cell_type": "code",
   "execution_count": null,
   "id": "0a9a01f9",
   "metadata": {},
   "outputs": [
    {
     "name": "stdout",
     "output_type": "stream",
     "text": [
      "Animal makes a sound\n",
      "Dog barks\n"
     ]
    }
   ],
   "source": [
    "class Animal:\n",
    "    def sound(self):\n",
    "        print(\"Animal makes a sound\")\n",
    "\n",
    "class Dog(Animal):\n",
    "    def sound(self):\n",
    "        super().sound()   ## Calls the parent class method\n",
    "        print(\"Dog barks\")\n",
    "\n",
    "d = Dog()\n",
    "d.sound()"
   ]
  },
  {
   "cell_type": "markdown",
   "id": "803f1234",
   "metadata": {},
   "source": [
    "#### 13. Create an abstract base class using `abc` module. "
   ]
  },
  {
   "cell_type": "code",
   "execution_count": 2,
   "id": "8315b0c7",
   "metadata": {},
   "outputs": [
    {
     "name": "stdout",
     "output_type": "stream",
     "text": [
      "78.5\n"
     ]
    }
   ],
   "source": [
    "from abc import ABC, abstractmethod\n",
    "\n",
    "class Shape(ABC):\n",
    "    @abstractmethod\n",
    "    def area(self):\n",
    "        pass\n",
    "\n",
    "class Circle(Shape):\n",
    "    def __init__(self, radius):\n",
    "        self.radius = radius\n",
    "\n",
    "    def area(self):\n",
    "        return 3.14 * self.radius * self.radius\n",
    "\n",
    "circle = Circle(5)\n",
    "print(circle.area())"
   ]
  },
  {
   "cell_type": "markdown",
   "id": "5696544e",
   "metadata": {},
   "source": [
    "#### 14. Demonstrate multiple inheritance in Python. "
   ]
  },
  {
   "cell_type": "code",
   "execution_count": 3,
   "id": "6358e44b",
   "metadata": {},
   "outputs": [
    {
     "name": "stdout",
     "output_type": "stream",
     "text": [
      "Browsing internet on a computer.\n",
      "Making a call from the phone.\n",
      "Using smart features of the device.\n"
     ]
    }
   ],
   "source": [
    "# Parent class 1\n",
    "class Computer:\n",
    "    def browse_internet(self):\n",
    "        print(\"Browsing internet on a computer.\")\n",
    "\n",
    "# Parent class 2\n",
    "class Phone:\n",
    "    def make_call(self):\n",
    "        print(\"Making a call from the phone.\")\n",
    "\n",
    "# Child class inherits from both Computer and Phone\n",
    "class SmartDevice(Computer, Phone):\n",
    "    def smart_features(self):\n",
    "        print(\"Using smart features of the device.\")\n",
    "\n",
    "# Create object of SmartDevice\n",
    "device = SmartDevice()\n",
    "\n",
    "# Access methods from both parents and child\n",
    "device.browse_internet()  # From Computer\n",
    "device.make_call()        # From Phone\n",
    "device.smart_features()   # From SmartDevice\n"
   ]
  },
  {
   "cell_type": "markdown",
   "id": "1f058805",
   "metadata": {},
   "source": [
    "#### 15.  Demonstrate encapsulation using getter and setter. "
   ]
  },
  {
   "cell_type": "code",
   "execution_count": 21,
   "id": "c538496a",
   "metadata": {},
   "outputs": [
    {
     "name": "stdout",
     "output_type": "stream",
     "text": [
      "Name: Henry\n",
      "Age: 18\n",
      "Updated Name: David\n",
      "Updated Age: 19\n"
     ]
    }
   ],
   "source": [
    "class Person:\n",
    "    def __init__(self, name, age):\n",
    "        self.__name = name      # private attribute\n",
    "        self.__age = age        # private attribute\n",
    "\n",
    "    # Getter for name\n",
    "    def get_name(self):\n",
    "        return self.__name\n",
    "\n",
    "    # Setter for name\n",
    "    def set_name(self, name):\n",
    "        self.__name = name\n",
    "\n",
    "    # Getter for age\n",
    "    def get_age(self):\n",
    "        return self.__age\n",
    "\n",
    "    # Setter for age\n",
    "    def set_age(self, age):\n",
    "        if age >= 0:\n",
    "            self.__age = age\n",
    "        else:\n",
    "            print(\"Age cannot be negative.\")\n",
    "\n",
    "p1 = Person(\"Henry\", 18)\n",
    "print(\"Name:\", p1.get_name())\n",
    "print(\"Age:\", p1.get_age())\n",
    "\n",
    "p1.set_name(\"David\")\n",
    "p1.set_age(19)\n",
    "\n",
    "print(\"Updated Name:\", p1.get_name())\n",
    "print(\"Updated Age:\", p1.get_age())"
   ]
  },
  {
   "cell_type": "markdown",
   "id": "0166b0e1",
   "metadata": {},
   "source": [
    "#### 16. Write a program to demonstrate polymorphism with a common method. "
   ]
  },
  {
   "cell_type": "code",
   "execution_count": 28,
   "id": "78d9fc49",
   "metadata": {},
   "outputs": [
    {
     "name": "stdout",
     "output_type": "stream",
     "text": [
      "Sparrow flies fast and low\n",
      "Eagle can fly high.\n",
      "Ostriches cannot fly.\n",
      "Penguin cannot fly, it swims\n"
     ]
    }
   ],
   "source": [
    "class Bird:\n",
    "\n",
    "    def fly(self):\n",
    "        print(\"Most of the birds can fly but some cannot.\")\n",
    "\n",
    "class Sparrow(Bird):\n",
    "    def fly(self):\n",
    "        print(\"Sparrow flies fast and low\")\n",
    "\n",
    "class Eagle(Bird):\n",
    "    def fly(self):\n",
    "        print(\"Eagle can fly high.\")\n",
    "\n",
    "class Ostrich(Bird):\n",
    "    def fly(self):\n",
    "        print(\"Ostriches cannot fly.\")\n",
    "\n",
    "class Penguin(Bird):\n",
    "    def fly(self):\n",
    "        print(\"Penguin cannot fly, it swims\")\n",
    "\n",
    "# function to make any bird fly\n",
    "def show_flying(bird):\n",
    "    bird.fly()\n",
    "\n",
    "# Create bird objects\n",
    "bird1 = Sparrow()\n",
    "bird2 = Eagle()\n",
    "bird3 = Ostrich()\n",
    "bird4 = Penguin()\n",
    "\n",
    "# Use the same function to see how each bird flies\n",
    "show_flying(bird1)\n",
    "show_flying(bird2)\n",
    "show_flying(bird3)\n",
    "show_flying(bird4)\n"
   ]
  },
  {
   "cell_type": "markdown",
   "id": "d8a62181",
   "metadata": {},
   "source": [
    "#### 17.  Create a class `Employee` with a method to display the number of employees created. "
   ]
  },
  {
   "cell_type": "code",
   "execution_count": null,
   "id": "5568a89d",
   "metadata": {},
   "outputs": [
    {
     "name": "stdout",
     "output_type": "stream",
     "text": [
      "Number of employees created: 4\n"
     ]
    }
   ],
   "source": [
    "class Employee:\n",
    "    count = 0  # class variable\n",
    "\n",
    "    def __init__(self, name):\n",
    "        self.name = name\n",
    "        Employee.count += 1\n",
    "\n",
    "    @classmethod\n",
    "    def display_count(cls):\n",
    "        print(f\"Number of employees created: {cls.count}\")\n",
    "\n",
    "# Creating employee objects\n",
    "emp1 = Employee(\"Gandalf\")\n",
    "emp2 = Employee(\"Galadriel\")\n",
    "emp3 = Employee(\"Charlie\")\n",
    "emp4 = Employee(\"Aragorn\")\n",
    "\n",
    "# Displaying the number of employees created\n",
    "Employee.display_count()"
   ]
  },
  {
   "cell_type": "markdown",
   "id": "c6c14f7f",
   "metadata": {},
   "source": [
    "#### 18.  Demonstrate constructor overloading using default arguments. "
   ]
  },
  {
   "cell_type": "code",
   "execution_count": null,
   "id": "20fa80e3",
   "metadata": {},
   "outputs": [
    {
     "name": "stdout",
     "output_type": "stream",
     "text": [
      "Name: Unknown, Age: 0\n",
      "Name: Tony Starke, Age: 0\n",
      "Name: Steve Rogers, Age: 27\n"
     ]
    }
   ],
   "source": [
    "class Student:\n",
    "    def __init__(self, name=\"Unknown\", age=0):\n",
    "        self.name = name\n",
    "        self.age = age\n",
    "\n",
    "    def show(self):\n",
    "        print(f\"Name: {self.name}, Age: {self.age}\")\n",
    "\n",
    "s1 = Student()\n",
    "s2 = Student(\"Tony Starke\")\n",
    "s3 = Student(\"Steve Rogers\", 27)\n",
    "\n",
    "s1.show()  \n",
    "s2.show()  \n",
    "s3.show() "
   ]
  },
  {
   "cell_type": "markdown",
   "id": "e4f9039a",
   "metadata": {},
   "source": [
    "#### 19.  Implement a bank account system with deposit and withdrawal methods. "
   ]
  },
  {
   "cell_type": "code",
   "execution_count": 16,
   "id": "d0ba3c29",
   "metadata": {},
   "outputs": [
    {
     "name": "stdout",
     "output_type": "stream",
     "text": [
      "Account owner: Katniss Everdeen, Initial balance: 500\n",
      "Deposited: 100\n",
      "Withdrew: 300\n",
      "Not enough balance\n"
     ]
    }
   ],
   "source": [
    "class BankAccount:\n",
    "    def __init__(self, owner, balance=0):\n",
    "        self.owner = owner\n",
    "        self.balance = balance\n",
    "\n",
    "    def deposit(self, amount):\n",
    "        self.balance += amount\n",
    "        print(\"Deposited:\", amount)\n",
    "\n",
    "    def withdraw(self, amount):\n",
    "        if amount > self.balance:\n",
    "            print(\"Not enough balance\")\n",
    "        else:\n",
    "            self.balance -= amount\n",
    "            print(\"Withdrew:\", amount)\n",
    "\n",
    "account = BankAccount(\"Katniss Everdeen\", 500)\n",
    "print(f\"Account owner: {account.owner}, Initial balance: {account.balance}\")\n",
    "account.deposit(100)\n",
    "account.withdraw(300)\n",
    "account.withdraw(500)\n"
   ]
  },
  {
   "cell_type": "markdown",
   "id": "54700931",
   "metadata": {},
   "source": [
    "#### 20.  Create a class `Rectangle` with method to calculate area and perimeter. "
   ]
  },
  {
   "cell_type": "code",
   "execution_count": 18,
   "id": "75493bd2",
   "metadata": {},
   "outputs": [
    {
     "name": "stdout",
     "output_type": "stream",
     "text": [
      "Area of rectangle: 50\n",
      "Perimeter of rectangle: 30\n"
     ]
    }
   ],
   "source": [
    "class Rectangle:\n",
    "    def __init__(self, length, width):\n",
    "        self.length = length\n",
    "        self.width = width\n",
    "\n",
    "    def area(self):\n",
    "        return self.length * self.width\n",
    "\n",
    "    def perimeter(self):\n",
    "        return 2 * (self.length + self.width)\n",
    "\n",
    "rect = Rectangle(10, 5)\n",
    "print(f\"Area of rectangle: {rect.area()}\")\n",
    "print(f\"Perimeter of rectangle: {rect.perimeter()}\")"
   ]
  },
  {
   "cell_type": "markdown",
   "id": "4dd9193b",
   "metadata": {},
   "source": [
    "##### ~ Padma Rani Nayak ~"
   ]
  }
 ],
 "metadata": {
  "kernelspec": {
   "display_name": "base",
   "language": "python",
   "name": "python3"
  },
  "language_info": {
   "codemirror_mode": {
    "name": "ipython",
    "version": 3
   },
   "file_extension": ".py",
   "mimetype": "text/x-python",
   "name": "python",
   "nbconvert_exporter": "python",
   "pygments_lexer": "ipython3",
   "version": "3.11.5"
  }
 },
 "nbformat": 4,
 "nbformat_minor": 5
}
