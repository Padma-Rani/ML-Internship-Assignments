{
 "cells": [
  {
   "cell_type": "markdown",
   "id": "094f128c",
   "metadata": {},
   "source": [
    "#### Q1.Print Numbers From 1 to 10"
   ]
  },
  {
   "cell_type": "code",
   "execution_count": 1,
   "id": "25277633",
   "metadata": {},
   "outputs": [
    {
     "name": "stdout",
     "output_type": "stream",
     "text": [
      "1\n",
      "2\n",
      "3\n",
      "4\n",
      "5\n",
      "6\n",
      "7\n",
      "8\n",
      "9\n",
      "10\n"
     ]
    }
   ],
   "source": [
    "for i in range(1,11):\n",
    "    print(i)"
   ]
  },
  {
   "cell_type": "markdown",
   "id": "0ad6a46d",
   "metadata": {},
   "source": [
    "#### Q2.Print even numbers from 1 to 20"
   ]
  },
  {
   "cell_type": "code",
   "execution_count": 2,
   "id": "77ec1cfa",
   "metadata": {},
   "outputs": [
    {
     "name": "stdout",
     "output_type": "stream",
     "text": [
      "2\n",
      "4\n",
      "6\n",
      "8\n",
      "10\n",
      "12\n",
      "14\n",
      "16\n",
      "18\n",
      "20\n"
     ]
    }
   ],
   "source": [
    "for num in range(1, 21):\n",
    "    if num % 2 == 0:\n",
    "        print(num)"
   ]
  },
  {
   "cell_type": "markdown",
   "id": "0a026967",
   "metadata": {},
   "source": [
    "#### Q3. Check if a number is positive, negative or zero."
   ]
  },
  {
   "cell_type": "code",
   "execution_count": 13,
   "id": "717fc64e",
   "metadata": {},
   "outputs": [
    {
     "name": "stdout",
     "output_type": "stream",
     "text": [
      "-70 is a Negative Number\n"
     ]
    }
   ],
   "source": [
    "# using if...elif...else\n",
    "\n",
    "num=int(input(\"Enter a Number=\"))\n",
    "if num>0:\n",
    "    print(num,\"is a Positive Number\")\n",
    "elif num==0:\n",
    "    print(\"Zero\")\n",
    "else:\n",
    "    print(num,\"is a Negative Number\")"
   ]
  },
  {
   "cell_type": "markdown",
   "id": "0b631c12",
   "metadata": {},
   "source": [
    "#### Q4. Add two numbers using operators.\n"
   ]
  },
  {
   "cell_type": "code",
   "execution_count": 5,
   "id": "69515315",
   "metadata": {},
   "outputs": [
    {
     "name": "stdout",
     "output_type": "stream",
     "text": [
      "Sum of two numbers 34 + 12 = 46\n"
     ]
    }
   ],
   "source": [
    "num1=int(input(\"Enter 1st number=\"))\n",
    "num2=int(input(\"Enter 2nd number=\"))\n",
    "sum=num1+num2\n",
    "print(\"Sum of two numbers\",num1,\"+\",num2,\"=\",sum)"
   ]
  },
  {
   "cell_type": "markdown",
   "id": "690883b7",
   "metadata": {},
   "source": [
    "#### Q5. Print multiplication table of a number. "
   ]
  },
  {
   "cell_type": "code",
   "execution_count": 11,
   "id": "065d165b",
   "metadata": {},
   "outputs": [
    {
     "name": "stdout",
     "output_type": "stream",
     "text": [
      "Multiplication Table of 11\n",
      "11 x 1 = 11\n",
      "11 x 2 = 22\n",
      "11 x 3 = 33\n",
      "11 x 4 = 44\n",
      "11 x 5 = 55\n",
      "11 x 6 = 66\n",
      "11 x 7 = 77\n",
      "11 x 8 = 88\n",
      "11 x 9 = 99\n",
      "11 x 10 = 110\n"
     ]
    }
   ],
   "source": [
    "num=int(input(\"Enter A Number=\"))\n",
    "print(\"Multiplication Table of\",num)\n",
    "for i in range(1,11):\n",
    "    print(num,\"x\",i,\"=\",num*i)"
   ]
  },
  {
   "cell_type": "markdown",
   "id": "7ef02289",
   "metadata": {},
   "source": [
    "#### Q6. Find the largest among two numbers. "
   ]
  },
  {
   "cell_type": "code",
   "execution_count": 9,
   "id": "86a77649",
   "metadata": {},
   "outputs": [
    {
     "name": "stdout",
     "output_type": "stream",
     "text": [
      "45 is largest number among 45 and 10\n"
     ]
    }
   ],
   "source": [
    "num1=int(input(\"Enter Number 1=\"))\n",
    "num2=int(input(\"Enter Number 2=\"))\n",
    "if num1>num2:\n",
    "    print(num1,\"is largest number among\",num1,\"and\",num2)\n",
    "else:\n",
    "    print(num2,\"is largest number among\",num2,\"and\",num1)"
   ]
  },
  {
   "cell_type": "markdown",
   "id": "957ccf9f",
   "metadata": {},
   "source": [
    "#### Q7. Use a while loop to print numbers 5 to 1. "
   ]
  },
  {
   "cell_type": "code",
   "execution_count": 14,
   "id": "5e27f779",
   "metadata": {},
   "outputs": [
    {
     "name": "stdout",
     "output_type": "stream",
     "text": [
      "5\n",
      "4\n",
      "3\n",
      "2\n",
      "1\n"
     ]
    }
   ],
   "source": [
    "number = 5\n",
    "while number >= 1:\n",
    "    print(number)\n",
    "    number -= 1"
   ]
  },
  {
   "cell_type": "markdown",
   "id": "0d8f767f",
   "metadata": {},
   "source": [
    "#### Q8. Print all characters in a string. "
   ]
  },
  {
   "cell_type": "code",
   "execution_count": 24,
   "id": "eb3dfaba",
   "metadata": {},
   "outputs": [
    {
     "name": "stdout",
     "output_type": "stream",
     "text": [
      "Characters in the string are:\n",
      "H\n",
      "a\n",
      "r\n",
      "r\n",
      "y\n",
      " \n",
      "P\n",
      "o\n",
      "t\n",
      "t\n",
      "e\n",
      "r\n",
      " \n"
     ]
    }
   ],
   "source": [
    "s =input(\"Enter a string=\")\n",
    "print(\"Characters in the string are:\")\n",
    "for char in s:\n",
    "    print(char)"
   ]
  },
  {
   "cell_type": "markdown",
   "id": "b88bad7e",
   "metadata": {},
   "source": [
    "##### Q9. Use logical operator to check if a number is between 10 and 50. "
   ]
  },
  {
   "cell_type": "code",
   "execution_count": 2,
   "id": "bf6264c3",
   "metadata": {},
   "outputs": [
    {
     "name": "stdout",
     "output_type": "stream",
     "text": [
      "67 is not between 10 and 50\n"
     ]
    }
   ],
   "source": [
    "num = int(input(\"Enter a number=\"))\n",
    "if num >= 10 and num <= 50:\n",
    "    print(num,\" is between 10 and 50\")\n",
    "else:\n",
    "    print(num,\"is not between 10 and 50\")"
   ]
  },
  {
   "cell_type": "markdown",
   "id": "c6a59970",
   "metadata": {},
   "source": [
    "#### Q10. Sum of first 10 natural numbers. "
   ]
  },
  {
   "cell_type": "code",
   "execution_count": 12,
   "id": "02736bbd",
   "metadata": {},
   "outputs": [
    {
     "name": "stdout",
     "output_type": "stream",
     "text": [
      "Sum of First 10 natural numbers= 55\n"
     ]
    }
   ],
   "source": [
    "num = 10\n",
    "sum = 0\n",
    "for i in range(num+1):\n",
    "    sum+=i\n",
    "print(\"Sum of First 10 natural numbers=\",sum)"
   ]
  },
  {
   "cell_type": "markdown",
   "id": "c0a7df1e",
   "metadata": {},
   "source": [
    "##### Q11.Print \"Odd\" or \"Even\" for numbers 1 to 10"
   ]
  },
  {
   "cell_type": "code",
   "execution_count": 13,
   "id": "5ded374f",
   "metadata": {},
   "outputs": [
    {
     "name": "stdout",
     "output_type": "stream",
     "text": [
      "1 = Odd\n",
      "2 = Even\n",
      "3 = Odd\n",
      "4 = Even\n",
      "5 = Odd\n",
      "6 = Even\n",
      "7 = Odd\n",
      "8 = Even\n",
      "9 = Odd\n",
      "10 = Even\n"
     ]
    }
   ],
   "source": [
    "for i in range(1, 11):\n",
    "    if i % 2 == 0:\n",
    "        print(i,\"= Even\")\n",
    "    else:\n",
    "        print(i,\"= Odd\")"
   ]
  },
  {
   "cell_type": "markdown",
   "id": "0f080048",
   "metadata": {},
   "source": [
    "#### Q12. Use “break” to stop loop when number is 5. "
   ]
  },
  {
   "cell_type": "code",
   "execution_count": 14,
   "id": "84f65f02",
   "metadata": {},
   "outputs": [
    {
     "name": "stdout",
     "output_type": "stream",
     "text": [
      "1\n",
      "2\n",
      "3\n",
      "4\n"
     ]
    }
   ],
   "source": [
    "for n in range(1, 11):\n",
    "    if n == 5:\n",
    "        break  # Exit the loop when number is 5\n",
    "    print(n)"
   ]
  },
  {
   "cell_type": "markdown",
   "id": "827a75ca",
   "metadata": {},
   "source": [
    "##### Q13. Print 1 to 10 and use continue to skip printing 5. "
   ]
  },
  {
   "cell_type": "code",
   "execution_count": 15,
   "id": "8763132c",
   "metadata": {},
   "outputs": [
    {
     "name": "stdout",
     "output_type": "stream",
     "text": [
      "1\n",
      "2\n",
      "3\n",
      "4\n",
      "6\n",
      "7\n",
      "8\n",
      "9\n",
      "10\n"
     ]
    }
   ],
   "source": [
    "for i in range(1, 11):\n",
    "    if i == 5:\n",
    "        continue\n",
    "    print(i)"
   ]
  },
  {
   "cell_type": "markdown",
   "id": "a3e51d9b",
   "metadata": {},
   "source": [
    "#### Q14. Print all elements in a list using a loop. "
   ]
  },
  {
   "cell_type": "code",
   "execution_count": 18,
   "id": "48e941e2",
   "metadata": {},
   "outputs": [
    {
     "name": "stdout",
     "output_type": "stream",
     "text": [
      "100\n",
      "Sikkim\n",
      "4.3\n",
      "Apple\n",
      "Johnny\n"
     ]
    }
   ],
   "source": [
    "my_list = [100,'Sikkim',4.30,'Apple','Johnny']\n",
    "for i in my_list:\n",
    "    print(i)"
   ]
  },
  {
   "cell_type": "markdown",
   "id": "66f89d80",
   "metadata": {},
   "source": [
    "#### Q15. Check if a number is divisible by both 3 and 5. "
   ]
  },
  {
   "cell_type": "code",
   "execution_count": 19,
   "id": "fcb7f981",
   "metadata": {},
   "outputs": [
    {
     "name": "stdout",
     "output_type": "stream",
     "text": [
      "45 is Divisible by both 3 and 5\n"
     ]
    }
   ],
   "source": [
    "num = int(input(\"Enter a number: \"))\n",
    "\n",
    "if num % 3 == 0 and num % 5 == 0:\n",
    "    print(num, \"is Divisible by both 3 and 5\")\n",
    "else:\n",
    "    print(num, \"is NOT divisible by both 3 and 5\")"
   ]
  },
  {
   "cell_type": "markdown",
   "id": "bdff4a2f",
   "metadata": {},
   "source": [
    "#### Q16. Square of all numbers from 1 to 5. "
   ]
  },
  {
   "cell_type": "code",
   "execution_count": 20,
   "id": "12921fdb",
   "metadata": {},
   "outputs": [
    {
     "name": "stdout",
     "output_type": "stream",
     "text": [
      "square of 1 is 1\n",
      "square of 2 is 4\n",
      "square of 3 is 9\n",
      "square of 4 is 16\n",
      "square of 5 is 25\n"
     ]
    }
   ],
   "source": [
    "for i in range(1, 6):\n",
    "    print(\"square of\",i,\"is\",i**2)"
   ]
  },
  {
   "cell_type": "markdown",
   "id": "64bedfc2",
   "metadata": {},
   "source": [
    "#### Q17. Print ASCII values of characters in a string. "
   ]
  },
  {
   "cell_type": "code",
   "execution_count": 23,
   "id": "9ecbb5f5",
   "metadata": {},
   "outputs": [
    {
     "name": "stdout",
     "output_type": "stream",
     "text": [
      "T has ASCII value 84\n",
      "h has ASCII value 104\n",
      "a has ASCII value 97\n",
      "n has ASCII value 110\n",
      "o has ASCII value 111\n",
      "s has ASCII value 115\n"
     ]
    }
   ],
   "source": [
    "string=input(\"Enter a string=\")\n",
    "for ch in string:\n",
    "    print(f\"{ch} has ASCII value {ord(ch)}\")\n"
   ]
  },
  {
   "cell_type": "markdown",
   "id": "d41c1caf",
   "metadata": {},
   "source": [
    "#### 18. Count down from 10 to 1 using while. \n"
   ]
  },
  {
   "cell_type": "code",
   "execution_count": 25,
   "id": "24d95468",
   "metadata": {},
   "outputs": [
    {
     "name": "stdout",
     "output_type": "stream",
     "text": [
      "10\n",
      "9\n",
      "8\n",
      "7\n",
      "6\n",
      "5\n",
      "4\n",
      "3\n",
      "2\n",
      "1\n"
     ]
    }
   ],
   "source": [
    "count = 10\n",
    "while count > 0:\n",
    "    print(count)\n",
    "    count -= 1"
   ]
  },
  {
   "cell_type": "markdown",
   "id": "3738a2cf",
   "metadata": {},
   "source": [
    "#### 19. Check if a number is divisible by 2 or 3. "
   ]
  },
  {
   "cell_type": "code",
   "execution_count": 28,
   "id": "7e0defef",
   "metadata": {},
   "outputs": [
    {
     "name": "stdout",
     "output_type": "stream",
     "text": [
      "5 is not divisible by 2 or 3.\n"
     ]
    }
   ],
   "source": [
    "num = int(input(\"Enter a number: \"))\n",
    "\n",
    "if num % 2 == 0 or num % 3 == 0:\n",
    "    print(num,\"is divisible by 2 or 3.\")\n",
    "else:\n",
    "    print(num,\"is not divisible by 2 or 3.\")"
   ]
  },
  {
   "cell_type": "markdown",
   "id": "ef0a33c9",
   "metadata": {},
   "source": [
    "#### 20. Print sum of digits of a number. \n"
   ]
  },
  {
   "cell_type": "code",
   "execution_count": 4,
   "id": "475b2f13",
   "metadata": {},
   "outputs": [
    {
     "name": "stdout",
     "output_type": "stream",
     "text": [
      "Number: 1234\n",
      "Sum of digits: 10\n"
     ]
    }
   ],
   "source": [
    "\n",
    "n = int(input(\"Enter a number: \"))\n",
    "print(\"Number:\", n)\n",
    "\n",
    "sum = 0\n",
    "while n > 0:\n",
    "    sum += n % 10\n",
    "    n = n // 10\n",
    "print(\"Sum of digits:\", sum)\n"
   ]
  },
  {
   "cell_type": "markdown",
   "id": "6652abf7",
   "metadata": {},
   "source": [
    "#### 21. Swap two numbers using a temporary variable. \n"
   ]
  },
  {
   "cell_type": "code",
   "execution_count": 5,
   "id": "42c88be3",
   "metadata": {},
   "outputs": [
    {
     "name": "stdout",
     "output_type": "stream",
     "text": [
      "Before swapping:\n",
      "a = 2\n",
      "b = 4\n",
      "After swapping:\n",
      "a = 4\n",
      "b = 2\n"
     ]
    }
   ],
   "source": [
    "a =int(input(\"Enter a number: \"))\n",
    "b =int(input(\"Enter a number: \"))   \n",
    "\n",
    "print(\"Before swapping:\")\n",
    "print(\"a =\", a)\n",
    "print(\"b =\", b)\n",
    "\n",
    "# Swapping using a temporary variable\n",
    "temp = a\n",
    "a = b\n",
    "b = temp\n",
    "\n",
    "print(\"After swapping:\")\n",
    "print(\"a =\", a)\n",
    "print(\"b =\", b)\n"
   ]
  },
  {
   "cell_type": "markdown",
   "id": "784433b2",
   "metadata": {},
   "source": [
    "##### 22. Print numbers from 1 to 100 that are divisible by 7. \n"
   ]
  },
  {
   "cell_type": "code",
   "execution_count": 6,
   "id": "207c8c40",
   "metadata": {},
   "outputs": [
    {
     "name": "stdout",
     "output_type": "stream",
     "text": [
      "7\n",
      "14\n",
      "21\n",
      "28\n",
      "35\n",
      "42\n",
      "49\n",
      "56\n",
      "63\n",
      "70\n",
      "77\n",
      "84\n",
      "91\n",
      "98\n"
     ]
    }
   ],
   "source": [
    "for i in range(1, 101):\n",
    "    if i % 7 == 0:\n",
    "        print(i)"
   ]
  },
  {
   "cell_type": "markdown",
   "id": "fb703828",
   "metadata": {},
   "source": [
    "#### 23.Find the factorial of a number. \n"
   ]
  },
  {
   "cell_type": "code",
   "execution_count": 7,
   "id": "1d1b672a",
   "metadata": {},
   "outputs": [
    {
     "name": "stdout",
     "output_type": "stream",
     "text": [
      "Factorial of 5 is:\n",
      "120\n"
     ]
    }
   ],
   "source": [
    "# Using For loop\n",
    "\n",
    "n=int(input(\"Enter a number=\"))\n",
    "print(\"Factorial of\",n,\"is:\")\n",
    "fact = 1\n",
    "for i in range(1, n + 1):\n",
    "    fact *= i\n",
    "print(fact)"
   ]
  },
  {
   "cell_type": "markdown",
   "id": "36a49ccb",
   "metadata": {},
   "source": [
    "#### 24. Count vowels in a string. \n"
   ]
  },
  {
   "cell_type": "code",
   "execution_count": null,
   "id": "b82f5f63",
   "metadata": {},
   "outputs": [
    {
     "name": "stdout",
     "output_type": "stream",
     "text": [
      "String: summer is here\n",
      "Number of vowels: 5\n"
     ]
    }
   ],
   "source": [
    "string = input(\"Enter a string: \")\n",
    "print(\"String:\", string)\n",
    "count = 0\n",
    "vowels = \"aeiouAEIOU\"\n",
    "\n",
    "for ch in string:\n",
    "    if ch in vowels:\n",
    "        count += 1\n",
    "\n",
    "print(\"Number of vowels:\", count)\n"
   ]
  },
  {
   "cell_type": "markdown",
   "id": "1ee26506",
   "metadata": {},
   "source": [
    "#### 25. Reverse a number using loop. "
   ]
  },
  {
   "cell_type": "code",
   "execution_count": 12,
   "id": "61c39413",
   "metadata": {},
   "outputs": [
    {
     "name": "stdout",
     "output_type": "stream",
     "text": [
      "Original number: 3456\n",
      "Reversed number: 6543\n"
     ]
    }
   ],
   "source": [
    "num = int(input(\"Enter a number: \"))\n",
    "print(\"Original number:\", num)\n",
    "rev = 0\n",
    "\n",
    "while num > 0:\n",
    "    digit = num % 10\n",
    "    rev = rev * 10 + digit\n",
    "    num = num // 10\n",
    "\n",
    "print(\"Reversed number:\", rev)"
   ]
  },
  {
   "cell_type": "markdown",
   "id": "38baada4",
   "metadata": {},
   "source": [
    "#### 26. Find the maximum in a list using loop.                              "
   ]
  },
  {
   "cell_type": "code",
   "execution_count": null,
   "id": "ebdef10b",
   "metadata": {},
   "outputs": [
    {
     "name": "stdout",
     "output_type": "stream",
     "text": [
      "Maximum number is: 700\n"
     ]
    }
   ],
   "source": [
    "number_list = [41, 105, 700, 202, 111]\n",
    "\n",
    "maximum = number_list[0]  # let assume the first element is the max\n",
    "\n",
    "for num in number_list:\n",
    "    if num > maximum:\n",
    "        maximum = num\n",
    "\n",
    "print(\"Maximum number is:\", maximum)\n"
   ]
  },
  {
   "cell_type": "markdown",
   "id": "b3d8c9b4",
   "metadata": {},
   "source": [
    "#### 27. Prime number check using loop. "
   ]
  },
  {
   "cell_type": "code",
   "execution_count": 16,
   "id": "d689fcc2",
   "metadata": {},
   "outputs": [
    {
     "name": "stdout",
     "output_type": "stream",
     "text": [
      "10 is not a prime number\n"
     ]
    }
   ],
   "source": [
    "num = int(input(\"Enter a number: \"))\n",
    "\n",
    "if num > 1:\n",
    "    for i in range(2, num):\n",
    "        if num % i == 0:\n",
    "            print(num, \"is not a prime number\")\n",
    "            break\n",
    "    else:\n",
    "        print(num, \"is a prime number\")\n",
    "else:\n",
    "    print(num, \"is not a prime number\")\n"
   ]
  },
  {
   "cell_type": "markdown",
   "id": "7d4481b1",
   "metadata": {},
   "source": [
    "#### 28. Sum of even numbers in a list. "
   ]
  },
  {
   "cell_type": "code",
   "execution_count": 23,
   "id": "133319e0",
   "metadata": {},
   "outputs": [
    {
     "name": "stdout",
     "output_type": "stream",
     "text": [
      "Original list: [1, 2, 3, 4, 5, 6, 7, 8, 9, 10, 11, 12, 13, 14, 15]\n",
      "Sum of even numbers: 56\n"
     ]
    }
   ],
   "source": [
    "numbers = [1, 2, 3, 4, 5, 6, 7, 8, 9, 10,11,12,13,14,15]\n",
    "print(\"Original list:\", numbers)\n",
    "s = 0\n",
    "for num in numbers:\n",
    "    if num % 2 == 0:\n",
    "        s += num\n",
    "print(\"Sum of even numbers:\", s)\n"
   ]
  },
  {
   "cell_type": "markdown",
   "id": "9c609cba",
   "metadata": {},
   "source": [
    "#### 29. Print number pattern using nested loops. "
   ]
  },
  {
   "cell_type": "code",
   "execution_count": 26,
   "id": "1f5ef5b8",
   "metadata": {},
   "outputs": [
    {
     "name": "stdout",
     "output_type": "stream",
     "text": [
      "1\n",
      "22\n",
      "333\n",
      "4444\n"
     ]
    }
   ],
   "source": [
    "n=int(input(\"Enter a number=\"))\n",
    "\n",
    "for i in range(1, n + 1):\n",
    "    for j in range(i):\n",
    "        print(i, end='')\n",
    "    print()\n"
   ]
  },
  {
   "cell_type": "markdown",
   "id": "a56c1923",
   "metadata": {},
   "source": [
    "#### 30. Count frequency of digits in a number. \n"
   ]
  },
  {
   "cell_type": "code",
   "execution_count": 33,
   "id": "45d65aa6",
   "metadata": {},
   "outputs": [
    {
     "name": "stdout",
     "output_type": "stream",
     "text": [
      "Number: 1223334\n",
      "Digit 1 occurs 1 times in the number 1223334\n",
      "Digit 2 occurs 2 times in the number 1223334\n",
      "Digit 2 occurs 2 times in the number 1223334\n",
      "Digit 3 occurs 3 times in the number 1223334\n",
      "Digit 3 occurs 3 times in the number 1223334\n",
      "Digit 3 occurs 3 times in the number 1223334\n",
      "Digit 4 occurs 1 times in the number 1223334\n"
     ]
    }
   ],
   "source": [
    "num = str(input(\"Enter a number: \"))\n",
    "print(\"Number:\",num)\n",
    "for digit in num:\n",
    "    count = num.count(digit)\n",
    "    if count > 0:\n",
    "        print(\"Digit\", digit, \"occurs\", count, \"times in the number\", num) \n"
   ]
  },
  {
   "cell_type": "markdown",
   "id": "83f0f738",
   "metadata": {},
   "source": [
    "#### 31. GCD of two numbers using loop. "
   ]
  },
  {
   "cell_type": "code",
   "execution_count": 35,
   "id": "e224007a",
   "metadata": {},
   "outputs": [
    {
     "name": "stdout",
     "output_type": "stream",
     "text": [
      "GCD of 45 and 80 is 5\n"
     ]
    }
   ],
   "source": [
    "num1 = int(input(\"Enter first number: \"))\n",
    "num2 = int(input(\"Enter second number: \"))\n",
    "\n",
    "if num1 == 0:\n",
    "    gcd = num2\n",
    "elif num2 == 0:\n",
    "    gcd = num1\n",
    "else:\n",
    "    gcd = 1\n",
    "    for i in range(1, min(num1, num2)):\n",
    "        if num1 % i == 0 and num2 % i == 0:\n",
    "            gcd = i\n",
    "\n",
    "print(\"GCD of\", num1, \"and\", num2, \"is\", gcd)"
   ]
  },
  {
   "cell_type": "markdown",
   "id": "f3ff2136",
   "metadata": {},
   "source": [
    "#### 32. Check if a number is a palindrome. "
   ]
  },
  {
   "cell_type": "code",
   "execution_count": 37,
   "id": "4ac43339",
   "metadata": {},
   "outputs": [
    {
     "name": "stdout",
     "output_type": "stream",
     "text": [
      "Original number: 121\n",
      "The number is a palindrome.\n"
     ]
    }
   ],
   "source": [
    "num = int(input(\"Enter a number: \"))\n",
    "print(\"Original number:\", num)\n",
    "original_num = num\n",
    "rev_num = 0\n",
    "\n",
    "while num > 0:\n",
    "    digit = num % 10\n",
    "    rev_num = rev_num * 10 + digit\n",
    "    num = num // 10\n",
    "\n",
    "if original_num == rev_num:\n",
    "    print(\"The number is a palindrome.\")\n",
    "else:\n",
    "    print(\"The number is not a palindrome.\")\n"
   ]
  },
  {
   "cell_type": "markdown",
   "id": "da1cedfd",
   "metadata": {},
   "source": [
    "#### 33. Count words in a sentence. "
   ]
  },
  {
   "cell_type": "code",
   "execution_count": null,
   "id": "4e07ec99",
   "metadata": {},
   "outputs": [
    {
     "name": "stdout",
     "output_type": "stream",
     "text": [
      "4\n"
     ]
    }
   ],
   "source": [
    "s = \"Octopuses have three hearts.\"\n",
    "count = len(s.split())\n",
    "print(count)"
   ]
  },
  {
   "cell_type": "markdown",
   "id": "01dedf72",
   "metadata": {},
   "source": [
    "#### 34. Find common elements in two lists. "
   ]
  },
  {
   "cell_type": "code",
   "execution_count": 42,
   "id": "f582d77d",
   "metadata": {},
   "outputs": [
    {
     "name": "stdout",
     "output_type": "stream",
     "text": [
      "[64, 50, 43]\n"
     ]
    }
   ],
   "source": [
    "a = [22, 43, 33,64,50]\n",
    "b = [43, 50, 64, 7, 43]\n",
    "\n",
    "# using set intersection\n",
    "common = list(set(a) & set(b))\n",
    "\n",
    "print(common)"
   ]
  },
  {
   "cell_type": "markdown",
   "id": "64955aba",
   "metadata": {},
   "source": [
    "#### 35. Use elif to grade students based on score. \n"
   ]
  },
  {
   "cell_type": "code",
   "execution_count": null,
   "id": "ee03d3df",
   "metadata": {},
   "outputs": [
    {
     "name": "stdout",
     "output_type": "stream",
     "text": [
      "Score: 67\n",
      "Grade: D\n"
     ]
    }
   ],
   "source": [
    "score = int(input(\"Enter the student's score: \"))\n",
    "print(\"Score:\", score)\n",
    "if score >= 90:\n",
    "    print(\"Grade: A\")\n",
    "elif score >= 80:\n",
    "    print(\"Grade: B\")\n",
    "elif score >= 70:\n",
    "    print(\"Grade: C\")\n",
    "elif score >= 60:\n",
    "    print(\"Grade: D\")\n",
    "else:\n",
    "    print(\"Grade: F\")"
   ]
  },
  {
   "cell_type": "markdown",
   "id": "cff8420f",
   "metadata": {},
   "source": [
    "#### 36. Print a right-angled triangle using *. "
   ]
  },
  {
   "cell_type": "code",
   "execution_count": 47,
   "id": "36c83203",
   "metadata": {},
   "outputs": [
    {
     "name": "stdout",
     "output_type": "stream",
     "text": [
      " * \n",
      " *  * \n",
      " *  *  * \n",
      " *  *  *  * \n",
      " *  *  *  *  * \n",
      " *  *  *  *  *  * \n",
      " *  *  *  *  *  *  * \n"
     ]
    }
   ],
   "source": [
    "rows=int(input(\"Enter the number of rows: \"))  \n",
    "\n",
    "for i in range(1, rows + 1):\n",
    "    print(\" * \" *  i)"
   ]
  },
  {
   "cell_type": "markdown",
   "id": "254fb294",
   "metadata": {},
   "source": [
    "#### 37. Check if a year is a leap year."
   ]
  },
  {
   "cell_type": "code",
   "execution_count": 53,
   "id": "e0729d0c",
   "metadata": {},
   "outputs": [
    {
     "name": "stdout",
     "output_type": "stream",
     "text": [
      "Year: 2004\n",
      "2004 is a leap year.\n"
     ]
    }
   ],
   "source": [
    "year = int(input(\"Enter a year: \"))\n",
    "print(\"Year:\", year)\n",
    "if (year % 4 == 0 and year % 100 != 0) or (year % 400 == 0):\n",
    "    print(year, \"is a leap year.\")\n",
    "else:\n",
    "    print(year, \"is not a leap year.\")"
   ]
  },
  {
   "cell_type": "markdown",
   "id": "e90f68a4",
   "metadata": {},
   "source": [
    "#### 38. Print Fibonacci series using loop. "
   ]
  },
  {
   "cell_type": "code",
   "execution_count": 54,
   "id": "c28d7791",
   "metadata": {},
   "outputs": [
    {
     "name": "stdout",
     "output_type": "stream",
     "text": [
      "Fibonacci Series:\n",
      "0 1 1 2 3 5 8 13 21 34 "
     ]
    }
   ],
   "source": [
    "a = 0\n",
    "b = 1\n",
    "n = 10  # number of terms \n",
    "\n",
    "print(\"Fibonacci Series:\")\n",
    "print(a, b, end=\" \")\n",
    "\n",
    "for i in range(n - 2):\n",
    "    c = a + b\n",
    "    print(c, end=\" \")\n",
    "    a = b\n",
    "    b = c\n"
   ]
  },
  {
   "cell_type": "markdown",
   "id": "f3436cba",
   "metadata": {},
   "source": [
    "##### 39. Count uppercase and lowercase letters in a string. "
   ]
  },
  {
   "cell_type": "code",
   "execution_count": 55,
   "id": "792e64e2",
   "metadata": {},
   "outputs": [
    {
     "name": "stdout",
     "output_type": "stream",
     "text": [
      "Uppercase letters: 2\n",
      "Lowercase letters: 8\n"
     ]
    }
   ],
   "source": [
    "String = \"Hello World\"\n",
    "\n",
    "uppercase = 0\n",
    "lowercase = 0\n",
    "\n",
    "for ch in String:\n",
    "    if 'A' <= ch <= 'Z':\n",
    "        uppercase = uppercase + 1\n",
    "    if 'a' <= ch <= 'z':\n",
    "        lowercase = lowercase + 1\n",
    "\n",
    "print(\"Uppercase letters:\", uppercase)\n",
    "print(\"Lowercase letters:\", lowercase)\n"
   ]
  },
  {
   "cell_type": "markdown",
   "id": "78619326",
   "metadata": {},
   "source": [
    "#### 40. Print numbers from 100 to 1 using loop. "
   ]
  },
  {
   "cell_type": "code",
   "execution_count": 58,
   "id": "082c14ee",
   "metadata": {},
   "outputs": [
    {
     "name": "stdout",
     "output_type": "stream",
     "text": [
      "100\n",
      "99\n",
      "98\n",
      "97\n",
      "96\n",
      "95\n",
      "94\n",
      "93\n",
      "92\n",
      "91\n",
      "90\n",
      "89\n",
      "88\n",
      "87\n",
      "86\n",
      "85\n",
      "84\n",
      "83\n",
      "82\n",
      "81\n",
      "80\n",
      "79\n",
      "78\n",
      "77\n",
      "76\n",
      "75\n",
      "74\n",
      "73\n",
      "72\n",
      "71\n",
      "70\n",
      "69\n",
      "68\n",
      "67\n",
      "66\n",
      "65\n",
      "64\n",
      "63\n",
      "62\n",
      "61\n",
      "60\n",
      "59\n",
      "58\n",
      "57\n",
      "56\n",
      "55\n",
      "54\n",
      "53\n",
      "52\n",
      "51\n",
      "50\n",
      "49\n",
      "48\n",
      "47\n",
      "46\n",
      "45\n",
      "44\n",
      "43\n",
      "42\n",
      "41\n",
      "40\n",
      "39\n",
      "38\n",
      "37\n",
      "36\n",
      "35\n",
      "34\n",
      "33\n",
      "32\n",
      "31\n",
      "30\n",
      "29\n",
      "28\n",
      "27\n",
      "26\n",
      "25\n",
      "24\n",
      "23\n",
      "22\n",
      "21\n",
      "20\n",
      "19\n",
      "18\n",
      "17\n",
      "16\n",
      "15\n",
      "14\n",
      "13\n",
      "12\n",
      "11\n",
      "10\n",
      "9\n",
      "8\n",
      "7\n",
      "6\n",
      "5\n",
      "4\n",
      "3\n",
      "2\n",
      "1\n"
     ]
    }
   ],
   "source": [
    "for i in range(100, 0, -1):\n",
    "    print(i)"
   ]
  }
 ],
 "metadata": {
  "kernelspec": {
   "display_name": "base",
   "language": "python",
   "name": "python3"
  },
  "language_info": {
   "codemirror_mode": {
    "name": "ipython",
    "version": 3
   },
   "file_extension": ".py",
   "mimetype": "text/x-python",
   "name": "python",
   "nbconvert_exporter": "python",
   "pygments_lexer": "ipython3",
   "version": "3.11.5"
  }
 },
 "nbformat": 4,
 "nbformat_minor": 5
}
