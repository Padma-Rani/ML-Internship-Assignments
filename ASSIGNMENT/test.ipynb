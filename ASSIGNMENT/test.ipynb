{
 "cells": [
  {
   "cell_type": "markdown",
   "id": "5426668c",
   "metadata": {},
   "source": [
    "NumPy  Date:05/06/2025"
   ]
  },
  {
   "cell_type": "markdown",
   "id": "04ab14a2",
   "metadata": {},
   "source": [
    "1.Create a 1D array from a list.\n"
   ]
  },
  {
   "cell_type": "code",
   "execution_count": 3,
   "id": "72c3a892",
   "metadata": {},
   "outputs": [
    {
     "name": "stdout",
     "output_type": "stream",
     "text": [
      "[1 2 3 4 5]\n"
     ]
    }
   ],
   "source": [
    "import numpy as np\n",
    "import pandas as pd\n",
    "\n",
    "arr = np.array([1, 2, 3, 4, 5])\n",
    "print(arr)"
   ]
  },
  {
   "cell_type": "markdown",
   "id": "6685e60b",
   "metadata": {},
   "source": [
    "2. Create a 3x3 array of zeros.\n"
   ]
  },
  {
   "cell_type": "code",
   "execution_count": 6,
   "id": "11c669cc",
   "metadata": {},
   "outputs": [
    {
     "name": "stdout",
     "output_type": "stream",
     "text": [
      "[[0. 0. 0.]\n",
      " [0. 0. 0.]\n",
      " [0. 0. 0.]]\n"
     ]
    }
   ],
   "source": [
    "z = np.zeros((3, 3))\n",
    "print(z)"
   ]
  },
  {
   "cell_type": "markdown",
   "id": "4b3228e3",
   "metadata": {},
   "source": [
    "3. Create a 2x2 array of ones."
   ]
  },
  {
   "cell_type": "code",
   "execution_count": 7,
   "id": "5bfa717b",
   "metadata": {},
   "outputs": [
    {
     "name": "stdout",
     "output_type": "stream",
     "text": [
      "[[1. 1.]\n",
      " [1. 1.]]\n"
     ]
    }
   ],
   "source": [
    "ones_array=np.ones((2, 2))\n",
    "print(ones_array)"
   ]
  },
  {
   "cell_type": "markdown",
   "id": "216a6008",
   "metadata": {},
   "source": [
    "4. Generate array from 0 to 10 (exclusive)."
   ]
  },
  {
   "cell_type": "code",
   "execution_count": 70,
   "id": "102123f7",
   "metadata": {},
   "outputs": [
    {
     "name": "stdout",
     "output_type": "stream",
     "text": [
      "[0 1 2 3 4 5 6 7 8 9]\n"
     ]
    }
   ],
   "source": [
    "arr = np.arange(0, 10)  \n",
    "print(arr)"
   ]
  },
  {
   "cell_type": "markdown",
   "id": "33fc220e",
   "metadata": {},
   "source": [
    "5. Create 5 evenly spaced numbers between 0 and 1.\n"
   ]
  },
  {
   "cell_type": "code",
   "execution_count": null,
   "id": "00078b44",
   "metadata": {},
   "outputs": [
    {
     "name": "stdout",
     "output_type": "stream",
     "text": [
      "[0.   0.25 0.5  0.75 1.  ]\n"
     ]
    }
   ],
   "source": [
    "arr = np.linspace(0, 1, 5) \n",
    "print(arr)"
   ]
  },
  {
   "cell_type": "markdown",
   "id": "36beae34",
   "metadata": {},
   "source": [
    "6. Create a 4x4 identity matrix."
   ]
  },
  {
   "cell_type": "code",
   "execution_count": 13,
   "id": "b5395962",
   "metadata": {},
   "outputs": [
    {
     "name": "stdout",
     "output_type": "stream",
     "text": [
      "[[1. 0. 0. 0.]\n",
      " [0. 1. 0. 0.]\n",
      " [0. 0. 1. 0.]\n",
      " [0. 0. 0. 1.]]\n"
     ]
    }
   ],
   "source": [
    "identity_matrix = np.eye(4)\n",
    "print(identity_matrix)"
   ]
  },
  {
   "cell_type": "markdown",
   "id": "f98bcaf1",
   "metadata": {},
   "source": [
    "7. Reshape 1D array to 2D."
   ]
  },
  {
   "cell_type": "code",
   "execution_count": 62,
   "id": "7532702a",
   "metadata": {},
   "outputs": [
    {
     "name": "stdout",
     "output_type": "stream",
     "text": [
      "[1 2 3 4 5 9]\n",
      " Reshaped array:\n",
      " [[1 2]\n",
      " [3 4]\n",
      " [5 9]]\n"
     ]
    }
   ],
   "source": [
    "arr = np.array([1, 2, 3, 4, 5, 9])\n",
    "print(arr)\n",
    "reshaped_array = arr.reshape(3,2)\n",
    "print(\" Reshaped array:\\n\", reshaped_array)"
   ]
  },
  {
   "cell_type": "markdown",
   "id": "7d03d242",
   "metadata": {},
   "source": [
    "8. Get the shape and dtype of an array."
   ]
  },
  {
   "cell_type": "code",
   "execution_count": 49,
   "id": "abc98f0b",
   "metadata": {},
   "outputs": [
    {
     "name": "stdout",
     "output_type": "stream",
     "text": [
      "[[1 2 3]\n",
      " [4 5 6]]\n",
      "Shape: (2, 3)\n",
      "Dtype: int32\n"
     ]
    }
   ],
   "source": [
    "arr = np.array([[1, 2, 3], [4, 5, 6]])\n",
    "print(arr)\n",
    "print(\"Shape:\", arr.shape)\n",
    "print(\"Dtype:\", arr.dtype)"
   ]
  },
  {
   "cell_type": "markdown",
   "id": "f8ac921f",
   "metadata": {},
   "source": [
    "9. Reverse a NumPy array."
   ]
  },
  {
   "cell_type": "code",
   "execution_count": null,
   "id": "a951ca66",
   "metadata": {},
   "outputs": [
    {
     "name": "stdout",
     "output_type": "stream",
     "text": [
      "Reversed array: [5 4 3 2 1]\n"
     ]
    }
   ],
   "source": [
    "arr= np.array([1, 2, 3, 4, 5])\n",
    "reversed_arr = arr[::-1]\n",
    "print(\"Reversed array:\", reversed_arr)"
   ]
  },
  {
   "cell_type": "markdown",
   "id": "5af24276",
   "metadata": {},
   "source": [
    "10. Extract even numbers from an array."
   ]
  },
  {
   "cell_type": "code",
   "execution_count": null,
   "id": "3221884d",
   "metadata": {},
   "outputs": [
    {
     "name": "stdout",
     "output_type": "stream",
     "text": [
      "Even numbers: [ 2  4  6  8 10]\n"
     ]
    }
   ],
   "source": [
    "arr = np.array([1, 2, 3, 4, 5, 6, 7, 8, 9, 10])\n",
    "even_numbers = arr[arr % 2 == 0]\n",
    "print(\"Even numbers:\", even_numbers)"
   ]
  },
  {
   "cell_type": "markdown",
   "id": "e49ee456",
   "metadata": {},
   "source": [
    "11. Find the max in each row."
   ]
  },
  {
   "cell_type": "code",
   "execution_count": 65,
   "id": "84cbda65",
   "metadata": {},
   "outputs": [
    {
     "name": "stdout",
     "output_type": "stream",
     "text": [
      "Max in each row: [3 6 9]\n"
     ]
    }
   ],
   "source": [
    "arr = np.array([[1, 2, 3], [4, 5, 6], [7, 8, 9]])\n",
    "max = arr.max(axis=1)\n",
    "print(\"Max in each row:\", max)"
   ]
  },
  {
   "cell_type": "markdown",
   "id": "af60589c",
   "metadata": {},
   "source": [
    "12. Compute the mean, std, and median of an array.\n"
   ]
  },
  {
   "cell_type": "code",
   "execution_count": 89,
   "id": "ce18dcf9",
   "metadata": {},
   "outputs": [
    {
     "name": "stdout",
     "output_type": "stream",
     "text": [
      "Mean: 3.0\n",
      "Standard Deviation: 1.4142135623730951\n",
      "Median: 3.0\n"
     ]
    }
   ],
   "source": [
    "arr = np.array([1, 2, 3, 4, 5])\n",
    "mean_value = np.mean(arr)\n",
    "std_value = np.std(arr)\n",
    "median_value = np.median(arr)\n",
    "print(\"Mean:\", mean_value)\n",
    "print(\"Standard Deviation:\", std_value) \n",
    "print(\"Median:\", median_value)"
   ]
  },
  {
   "cell_type": "markdown",
   "id": "872d701b",
   "metadata": {},
   "source": [
    "13. Stack two arrays vertically."
   ]
  },
  {
   "cell_type": "code",
   "execution_count": 76,
   "id": "1164205c",
   "metadata": {},
   "outputs": [
    {
     "name": "stdout",
     "output_type": "stream",
     "text": [
      "Stacked array:\n",
      " [[1 4]\n",
      " [2 5]\n",
      " [3 6]]\n"
     ]
    }
   ],
   "source": [
    "#1D Array\n",
    "arr1= np.array([1, 2, 3])\n",
    "arr2 = np.array([4, 5, 6])\n",
    "stack_arr= np.stack((arr1, arr2), axis=1) \n",
    "print(\"Stacked array:\\n\", stack_arr)"
   ]
  },
  {
   "cell_type": "markdown",
   "id": "533a16f7",
   "metadata": {},
   "source": [
    "14. Stack two arrays horizontally."
   ]
  },
  {
   "cell_type": "code",
   "execution_count": 77,
   "id": "17f6b014",
   "metadata": {},
   "outputs": [
    {
     "name": "stdout",
     "output_type": "stream",
     "text": [
      "Stacked array:\n",
      " [[[ 1  2  3]\n",
      "  [ 7  8  9]]\n",
      "\n",
      " [[ 4  5  6]\n",
      "  [10 11 12]]]\n"
     ]
    }
   ],
   "source": [
    "#2D array\n",
    "arr1= np.array([[1, 2, 3],[4, 5, 6]])\n",
    "arr2 = np.array([[7, 8, 9],[10, 11, 12]])\n",
    "stack_arr= np.stack((arr1, arr2), axis=1) \n",
    "print(\"Stacked array:\\n\", stack_arr)"
   ]
  },
  {
   "cell_type": "markdown",
   "id": "82160fef",
   "metadata": {},
   "source": [
    "15. Stack two arrays horizontally.\n"
   ]
  },
  {
   "cell_type": "code",
   "execution_count": 79,
   "id": "523b3bf3",
   "metadata": {},
   "outputs": [
    {
     "name": "stdout",
     "output_type": "stream",
     "text": [
      "Stacked array:\n",
      " [[[ 1  2  3]\n",
      "  [ 4  5  6]]\n",
      "\n",
      " [[ 7  8  9]\n",
      "  [10 11 12]]]\n"
     ]
    }
   ],
   "source": [
    "# 15. Stack two arrays horizontally.\n",
    "arr1 = np.array([[1, 2, 3], [4, 5, 6]])\n",
    "arr2 = np.array([[7, 8, 9], [10, 11, 12]])\n",
    "stacked_arr = np.stack((arr1, arr2), axis=0)\n",
    "print(\"Stacked array:\\n\", stacked_arr)"
   ]
  },
  {
   "cell_type": "markdown",
   "id": "4e877ea8",
   "metadata": {},
   "source": [
    "16. Find the unique values and their counts.\n"
   ]
  },
  {
   "cell_type": "code",
   "execution_count": 83,
   "id": "a29a57d5",
   "metadata": {},
   "outputs": [
    {
     "name": "stdout",
     "output_type": "stream",
     "text": [
      "Original array: [0 1 2 2 4 4 4 5 6 7 7]\n",
      "Unique values: [0 1 2 4 5 6 7]\n",
      "Counts: [1 1 2 3 1 1 2]\n"
     ]
    }
   ],
   "source": [
    "# 16. Find the unique values and their counts.\n",
    "arr = np.array([0, 1, 2, 2, 4, 4, 4, 5, 6, 7, 7])\n",
    "print(\"Original array:\", arr)\n",
    "unique, counts = np.unique(arr, return_counts=True)\n",
    "print(\"Unique values:\", unique)\n",
    "print(\"Counts:\", counts)  "
   ]
  },
  {
   "cell_type": "markdown",
   "id": "879b38d0",
   "metadata": {},
   "source": [
    "17. Replace NaN with column means.\n"
   ]
  },
  {
   "cell_type": "code",
   "execution_count": 95,
   "id": "1a3b707f",
   "metadata": {},
   "outputs": [
    {
     "name": "stdout",
     "output_type": "stream",
     "text": [
      "Original array with NaN values:\n",
      " [[ 1.  2. nan]\n",
      " [ 4.  5.  6.]\n",
      " [ 7. nan  9.]]\n",
      "Array without NaN values with coulumn means:\n",
      " [[1.  2.  7.5]\n",
      " [4.  5.  6. ]\n",
      " [7.  3.5 9. ]]\n"
     ]
    }
   ],
   "source": [
    "arr = np.array([[1, 2, np.nan], [4, 5, 6], [7, np.nan, 9]])\n",
    "print(\"Original array with NaN values:\\n\", arr)\n",
    "print(\"Array without NaN values with coulumn means:\\n\", np.where(np.isnan(arr), np.nanmean(arr, axis=0), arr))"
   ]
  },
  {
   "cell_type": "markdown",
   "id": "9fa051df",
   "metadata": {},
   "source": [
    "18. Get index of min and max values.\n"
   ]
  },
  {
   "cell_type": "code",
   "execution_count": 100,
   "id": "9d9d7146",
   "metadata": {},
   "outputs": [
    {
     "name": "stdout",
     "output_type": "stream",
     "text": [
      "[[1 2 3]\n",
      " [4 5 6]]\n",
      "Index of minimum value: 0\n",
      "Index of maximum value: 5\n"
     ]
    }
   ],
   "source": [
    "arr = np.array([[1, 2, 3], [4, 5, 6]])\n",
    "print(arr)\n",
    "\n",
    "min_value=np.argmin(arr)\n",
    "max_value=np.argmax(arr)\n",
    "print(\"Index of minimum value:\", min_value)\n",
    "print(\"Index of maximum value:\", max_value)"
   ]
  },
  {
   "cell_type": "markdown",
   "id": "ea1257d4",
   "metadata": {},
   "source": [
    "19. Create a 3D array of random integers.\n",
    "\n"
   ]
  },
  {
   "cell_type": "code",
   "execution_count": null,
   "id": "872bf56c",
   "metadata": {},
   "outputs": [
    {
     "name": "stdout",
     "output_type": "stream",
     "text": [
      "3D array of random integers:\n",
      " [[[7 8 9 4]\n",
      "  [6 1 4 7]\n",
      "  [8 9 6 0]]\n",
      "\n",
      " [[3 6 0 9]\n",
      "  [1 4 0 4]\n",
      "  [2 6 1 6]]]\n"
     ]
    }
   ],
   "source": [
    "arr = np.random.randint(0, 10, (2, 3, 4)) \n",
    "print(\"3D array of random integers:\\n\", arr)"
   ]
  },
  {
   "cell_type": "markdown",
   "id": "61844a5c",
   "metadata": {},
   "source": [
    "20. Use np.where() to replace values\n"
   ]
  },
  {
   "cell_type": "code",
   "execution_count": 103,
   "id": "a5e464f6",
   "metadata": {},
   "outputs": [
    {
     "name": "stdout",
     "output_type": "stream",
     "text": [
      "Original array: [1 2 3 4 5]\n",
      "Array after replacement:\n",
      " [1 2 3 0 0]\n"
     ]
    }
   ],
   "source": [
    "# 20. Use np.where() to replace values\n",
    "arr = np.array([1, 2, 3, 4, 5])\n",
    "print(\"Original array:\", arr)\n",
    "# Replace values greater than 3 with 0\n",
    "arr_replaced = np.where(arr > 3, 0, arr)    \n",
    "print(\"Array after replacement:\\n\", arr_replaced)"
   ]
  },
  {
   "cell_type": "markdown",
   "id": "2f74ec47",
   "metadata": {
    "vscode": {
     "languageId": "plaintext"
    }
   },
   "source": [
    "Pandas"
   ]
  },
  {
   "cell_type": "markdown",
   "id": "30bece49",
   "metadata": {},
   "source": [
    "1. Create a Series using a Python list.\n"
   ]
  },
  {
   "cell_type": "code",
   "execution_count": 106,
   "id": "1d2e6157",
   "metadata": {},
   "outputs": [
    {
     "name": "stdout",
     "output_type": "stream",
     "text": [
      "0    22\n",
      "1    33\n",
      "2    44\n",
      "3    55\n",
      "4    66\n",
      "dtype: int64\n"
     ]
    }
   ],
   "source": [
    "import pandas as pd\n",
    "s=pd.Series([22,33,44,55,66])\n",
    "print(s)"
   ]
  },
  {
   "cell_type": "markdown",
   "id": "9a7038c5",
   "metadata": {},
   "source": [
    "2. Create a Series with custom string indices.\n",
    "\n",
    "\n"
   ]
  },
  {
   "cell_type": "code",
   "execution_count": 107,
   "id": "0d070627",
   "metadata": {},
   "outputs": [
    {
     "name": "stdout",
     "output_type": "stream",
     "text": [
      "a    22\n",
      "b    33\n",
      "c    44\n",
      "d    55\n",
      "e    66\n",
      "dtype: int64\n"
     ]
    }
   ],
   "source": [
    "s = pd.Series([22, 33, 44, 55, 66], index=['a', 'b', 'c', 'd', 'e'])\n",
    "print(s)"
   ]
  },
  {
   "cell_type": "markdown",
   "id": "19ae6db0",
   "metadata": {},
   "source": [
    "3. Create a Series from a dictionary.\n"
   ]
  },
  {
   "cell_type": "code",
   "execution_count": 109,
   "id": "7f2ffbeb",
   "metadata": {},
   "outputs": [
    {
     "name": "stdout",
     "output_type": "stream",
     "text": [
      "a    22\n",
      "b    33\n",
      "c    44\n",
      "d    55\n",
      "e    66\n",
      "dtype: int64\n"
     ]
    }
   ],
   "source": [
    "dict = {'a': 22, 'b': 33, 'c': 44, 'd': 55, 'e': 66}\n",
    "s = pd.Series(dict)\n",
    "print(s)"
   ]
  },
  {
   "cell_type": "markdown",
   "id": "d505873f",
   "metadata": {},
   "source": [
    "4. Access first 3 elements of a Series.\n"
   ]
  },
  {
   "cell_type": "code",
   "execution_count": 115,
   "id": "fd654f33",
   "metadata": {},
   "outputs": [
    {
     "name": "stdout",
     "output_type": "stream",
     "text": [
      "First 3 elements of the Series:\n",
      " 0    22\n",
      "1    33\n",
      "2    44\n",
      "dtype: int64\n"
     ]
    }
   ],
   "source": [
    "# 4. Access first 3 elements of a Series.\n",
    "s = pd.Series([22, 33, 44, 55, 66])\n",
    "print(\"First 3 elements of the Series:\\n\", s.head(3)) "
   ]
  },
  {
   "cell_type": "markdown",
   "id": "8f759ac0",
   "metadata": {},
   "source": [
    "5. Filter Series elements greater than 50.\n",
    "\n"
   ]
  },
  {
   "cell_type": "code",
   "execution_count": 116,
   "id": "ef70baed",
   "metadata": {},
   "outputs": [
    {
     "name": "stdout",
     "output_type": "stream",
     "text": [
      "Filtered Series (elements > 50):\n",
      " 3    55\n",
      "4    66\n",
      "dtype: int64\n"
     ]
    }
   ],
   "source": [
    "s = pd.Series([22, 33, 44, 55, 66])\n",
    "filtered_series = s[s > 50]\n",
    "print(\"Filtered Series (elements > 50):\\n\", filtered_series)"
   ]
  },
  {
   "cell_type": "markdown",
   "id": "86562d48",
   "metadata": {},
   "source": [
    "6. Add two Series with different indices.\n",
    "\n"
   ]
  },
  {
   "cell_type": "code",
   "execution_count": 123,
   "id": "971af358",
   "metadata": {},
   "outputs": [
    {
     "name": "stdout",
     "output_type": "stream",
     "text": [
      "Result of addition:\n",
      " 0     7.0\n",
      "1     9.0\n",
      "2    12.0\n",
      "3     8.0\n",
      "4    10.0\n",
      "5    11.0\n",
      "dtype: float64\n"
     ]
    }
   ],
   "source": [
    "s1 = pd.Series([2, 3, 5])\n",
    "s2 = pd.Series([5, 6, 7, 8, 10, 11])\n",
    "result = s1.add(s2,fill_value=0)\n",
    "print(\"Result of addition:\\n\", result)"
   ]
  },
  {
   "cell_type": "markdown",
   "id": "b09aa6fa",
   "metadata": {},
   "source": [
    "\n",
    "7. Multiply a Series by a scalar.\n"
   ]
  },
  {
   "cell_type": "code",
   "execution_count": 4,
   "id": "1d8f94f6",
   "metadata": {},
   "outputs": [
    {
     "name": "stdout",
     "output_type": "stream",
     "text": [
      "Result of multiplication by scalar:\n",
      " 0     3\n",
      "1     6\n",
      "2     9\n",
      "3    12\n",
      "4    15\n",
      "dtype: int64\n"
     ]
    }
   ],
   "source": [
    "# Multiply a Series by a scalar.\n",
    "s = pd.Series([1, 2, 3, 4, 5])\n",
    "scalar = 3\n",
    "result = s * scalar\n",
    "print(\"Result of multiplication by scalar:\\n\", result)"
   ]
  },
  {
   "cell_type": "markdown",
   "id": "18f4cc3d",
   "metadata": {},
   "source": [
    "8. Use .multiply() method to multiply with scalar.\n"
   ]
  },
  {
   "cell_type": "code",
   "execution_count": 6,
   "id": "1fbe96e4",
   "metadata": {},
   "outputs": [
    {
     "name": "stdout",
     "output_type": "stream",
     "text": [
      "Original Series:\n",
      " 0    4\n",
      "1    5\n",
      "2    6\n",
      "3    7\n",
      "4    8\n",
      "dtype: int64\n",
      "Result of multiplication using .multiply() method:\n",
      " 0    12\n",
      "1    15\n",
      "2    18\n",
      "3    21\n",
      "4    24\n",
      "dtype: int64\n"
     ]
    }
   ],
   "source": [
    "# 8. Use .multiply() method to multiply with scalar.\n",
    "s = pd.Series( [4, 5, 6, 7, 8])\n",
    "print(\"Original Series:\\n\", s)\n",
    "scalar = 3\n",
    "result = s.multiply(scalar)\n",
    "print(\"Result of multiplication using .multiply() method:\\n\", result)"
   ]
  },
  {
   "cell_type": "markdown",
   "id": "ef461afc",
   "metadata": {},
   "source": [
    "10. Sort Series by values descending.\n"
   ]
  },
  {
   "cell_type": "code",
   "execution_count": 12,
   "id": "a6c04901",
   "metadata": {},
   "outputs": [
    {
     "name": "stdout",
     "output_type": "stream",
     "text": [
      "Sorted Series in descending order:\n",
      " 2    77\n",
      "4    66\n",
      "3    55\n",
      "1    33\n",
      "0    22\n",
      "dtype: int64\n"
     ]
    }
   ],
   "source": [
    "# 10. Sort Series by values descending.\n",
    "s = pd.Series([22, 33, 77, 55, 66])\n",
    "sorted_series = s.sort_values(ascending=False)\n",
    "print(\"Sorted Series in descending order:\\n\", sorted_series)"
   ]
  },
  {
   "cell_type": "markdown",
   "id": "9cd5b813",
   "metadata": {},
   "source": [
    "11. Sort Series by index.\n"
   ]
  },
  {
   "cell_type": "code",
   "execution_count": 13,
   "id": "ae74eb6f",
   "metadata": {},
   "outputs": [
    {
     "name": "stdout",
     "output_type": "stream",
     "text": [
      "Sorted Series by index:\n",
      " a    66\n",
      "b    55\n",
      "c    44\n",
      "d    33\n",
      "e    22\n",
      "dtype: int64\n"
     ]
    }
   ],
   "source": [
    "s = pd.Series([22, 33, 44, 55, 66], index=['e', 'd', 'c', 'b', 'a'])\n",
    "sorted_series = s.sort_index()\n",
    "print(\"Sorted Series by index:\\n\", sorted_series)"
   ]
  },
  {
   "cell_type": "markdown",
   "id": "da4cc61b",
   "metadata": {},
   "source": [
    "12. Check for null values.\n",
    "\n"
   ]
  },
  {
   "cell_type": "code",
   "execution_count": 17,
   "id": "ae67fc28",
   "metadata": {},
   "outputs": [
    {
     "name": "stdout",
     "output_type": "stream",
     "text": [
      "Original Series with NaN values:\n",
      " 0    22.0\n",
      "1     NaN\n",
      "2    44.0\n",
      "3    55.0\n",
      "4     NaN\n",
      "5    66.0\n",
      "dtype: float64\n",
      "Check for null values:\n",
      " 0    False\n",
      "1     True\n",
      "2    False\n",
      "3    False\n",
      "4     True\n",
      "5    False\n",
      "dtype: bool\n"
     ]
    }
   ],
   "source": [
    "s = pd.Series([22, np.nan, 44, 55, np.nan, 66])\n",
    "print(\"Original Series with NaN values:\\n\", s)\n",
    "null_check = s.isnull()\n",
    "print(\"Check for null values:\\n\", null_check)"
   ]
  },
  {
   "cell_type": "markdown",
   "id": "6c34d1a5",
   "metadata": {},
   "source": [
    "14. Concatenate two Series using concat().\n"
   ]
  },
  {
   "cell_type": "code",
   "execution_count": 19,
   "id": "1afb85bb",
   "metadata": {},
   "outputs": [
    {
     "name": "stdout",
     "output_type": "stream",
     "text": [
      "Concatenated Series:\n",
      " 0    1\n",
      "1    2\n",
      "2    3\n",
      "0    4\n",
      "1    5\n",
      "2    6\n",
      "dtype: int64\n"
     ]
    }
   ],
   "source": [
    "s1 = pd.Series([1, 2, 3])\n",
    "s2 = pd.Series([4, 5, 6])\n",
    "result = pd.concat([s1, s2])\n",
    "print(\"Concatenated Series:\\n\", result)"
   ]
  },
  {
   "cell_type": "markdown",
   "id": "ec9793a2",
   "metadata": {},
   "source": [
    "15. Concatenate two Series using append().\n"
   ]
  },
  {
   "cell_type": "code",
   "execution_count": 81,
   "id": "f088769e",
   "metadata": {},
   "outputs": [
    {
     "ename": "AttributeError",
     "evalue": "'Series' object has no attribute 'append'",
     "output_type": "error",
     "traceback": [
      "\u001b[1;31m---------------------------------------------------------------------------\u001b[0m",
      "\u001b[1;31mAttributeError\u001b[0m                            Traceback (most recent call last)",
      "\u001b[1;32m~\\AppData\\Local\\Temp\\ipykernel_14392\\3576472495.py\u001b[0m in \u001b[0;36m?\u001b[1;34m()\u001b[0m\n\u001b[0;32m      1\u001b[0m \u001b[0ms1\u001b[0m \u001b[1;33m=\u001b[0m \u001b[0mpd\u001b[0m\u001b[1;33m.\u001b[0m\u001b[0mSeries\u001b[0m\u001b[1;33m(\u001b[0m\u001b[1;33m[\u001b[0m\u001b[1;36m1\u001b[0m\u001b[1;33m,\u001b[0m \u001b[1;36m2\u001b[0m\u001b[1;33m,\u001b[0m \u001b[1;36m3\u001b[0m\u001b[1;33m]\u001b[0m\u001b[1;33m)\u001b[0m\u001b[1;33m\u001b[0m\u001b[1;33m\u001b[0m\u001b[0m\n\u001b[0;32m      2\u001b[0m \u001b[0ms2\u001b[0m \u001b[1;33m=\u001b[0m \u001b[0mpd\u001b[0m\u001b[1;33m.\u001b[0m\u001b[0mSeries\u001b[0m\u001b[1;33m(\u001b[0m\u001b[1;33m[\u001b[0m\u001b[1;36m4\u001b[0m\u001b[1;33m,\u001b[0m \u001b[1;36m5\u001b[0m\u001b[1;33m,\u001b[0m \u001b[1;36m6\u001b[0m\u001b[1;33m]\u001b[0m\u001b[1;33m)\u001b[0m\u001b[1;33m\u001b[0m\u001b[1;33m\u001b[0m\u001b[0m\n\u001b[1;32m----> 3\u001b[1;33m \u001b[0mresult\u001b[0m \u001b[1;33m=\u001b[0m \u001b[0ms1\u001b[0m\u001b[1;33m.\u001b[0m\u001b[0mappend\u001b[0m\u001b[1;33m(\u001b[0m\u001b[0ms2\u001b[0m\u001b[1;33m)\u001b[0m\u001b[1;33m\u001b[0m\u001b[1;33m\u001b[0m\u001b[0m\n\u001b[0m\u001b[0;32m      4\u001b[0m \u001b[0mprint\u001b[0m\u001b[1;33m(\u001b[0m\u001b[1;34m\"Concatenated Series:\\n\"\u001b[0m\u001b[1;33m,\u001b[0m \u001b[0mresult\u001b[0m\u001b[1;33m)\u001b[0m\u001b[1;33m\u001b[0m\u001b[1;33m\u001b[0m\u001b[0m\n",
      "\u001b[1;32mc:\\Users\\devra\\anaconda3\\Lib\\site-packages\\pandas\\core\\generic.py\u001b[0m in \u001b[0;36m?\u001b[1;34m(self, name)\u001b[0m\n\u001b[0;32m   5985\u001b[0m             \u001b[1;32mand\u001b[0m \u001b[0mname\u001b[0m \u001b[1;32mnot\u001b[0m \u001b[1;32min\u001b[0m \u001b[0mself\u001b[0m\u001b[1;33m.\u001b[0m\u001b[0m_accessors\u001b[0m\u001b[1;33m\u001b[0m\u001b[1;33m\u001b[0m\u001b[0m\n\u001b[0;32m   5986\u001b[0m             \u001b[1;32mand\u001b[0m \u001b[0mself\u001b[0m\u001b[1;33m.\u001b[0m\u001b[0m_info_axis\u001b[0m\u001b[1;33m.\u001b[0m\u001b[0m_can_hold_identifiers_and_holds_name\u001b[0m\u001b[1;33m(\u001b[0m\u001b[0mname\u001b[0m\u001b[1;33m)\u001b[0m\u001b[1;33m\u001b[0m\u001b[1;33m\u001b[0m\u001b[0m\n\u001b[0;32m   5987\u001b[0m         ):\n\u001b[0;32m   5988\u001b[0m             \u001b[1;32mreturn\u001b[0m \u001b[0mself\u001b[0m\u001b[1;33m[\u001b[0m\u001b[0mname\u001b[0m\u001b[1;33m]\u001b[0m\u001b[1;33m\u001b[0m\u001b[1;33m\u001b[0m\u001b[0m\n\u001b[1;32m-> 5989\u001b[1;33m         \u001b[1;32mreturn\u001b[0m \u001b[0mobject\u001b[0m\u001b[1;33m.\u001b[0m\u001b[0m__getattribute__\u001b[0m\u001b[1;33m(\u001b[0m\u001b[0mself\u001b[0m\u001b[1;33m,\u001b[0m \u001b[0mname\u001b[0m\u001b[1;33m)\u001b[0m\u001b[1;33m\u001b[0m\u001b[1;33m\u001b[0m\u001b[0m\n\u001b[0m",
      "\u001b[1;31mAttributeError\u001b[0m: 'Series' object has no attribute 'append'"
     ]
    }
   ],
   "source": [
    "s1 = pd.Series([1, 2, 3])\n",
    "s2 = pd.Series([4, 5, 6])\n",
    "result = s1.append(s2)\n",
    "print(\"Concatenated Series:\\n\", result)"
   ]
  },
  {
   "cell_type": "markdown",
   "id": "640d8e91",
   "metadata": {},
   "source": [
    "16. Retrieve first 5 elements using .head()\n",
    "\n"
   ]
  },
  {
   "cell_type": "code",
   "execution_count": 77,
   "id": "665bf39d",
   "metadata": {},
   "outputs": [
    {
     "name": "stdout",
     "output_type": "stream",
     "text": [
      "First five elements of the Series:\n",
      " 0    22\n",
      "1    33\n",
      "2    44\n",
      "3    55\n",
      "4    66\n",
      "dtype: int64\n"
     ]
    }
   ],
   "source": [
    "s = pd.Series([22, 33, 44, 55, 66, 77, 88])\n",
    "first_five = s.head(5)\n",
    "print(\"First five elements of the Series:\\n\", first_five)"
   ]
  },
  {
   "cell_type": "markdown",
   "id": "70fddb7b",
   "metadata": {},
   "source": [
    "17. Retrieve last 5 elements using .tail()\n"
   ]
  },
  {
   "cell_type": "code",
   "execution_count": 80,
   "id": "9931bb8b",
   "metadata": {},
   "outputs": [
    {
     "name": "stdout",
     "output_type": "stream",
     "text": [
      "Last five elements of the Series:\n",
      " 2    44\n",
      "3    55\n",
      "4    66\n",
      "5    77\n",
      "6    88\n",
      "dtype: int64\n"
     ]
    }
   ],
   "source": [
    "s = pd.Series([22, 33, 44, 55, 66, 77, 88])\n",
    "last_five = s.tail(5)\n",
    "print(\"Last five elements of the Series:\\n\", last_five)"
   ]
  },
  {
   "cell_type": "markdown",
   "id": "2294bda2",
   "metadata": {},
   "source": [
    "18. Convert Series to DataFrame.\n"
   ]
  },
  {
   "cell_type": "code",
   "execution_count": 56,
   "id": "6cb984f3",
   "metadata": {},
   "outputs": [
    {
     "name": "stdout",
     "output_type": "stream",
     "text": [
      "DataFrame created from Series:\n",
      "          Age\n",
      "Frodo     23\n",
      "Gandalf   45\n",
      "Legolas   33\n",
      "Elrond    50\n",
      "Aragorn   40\n"
     ]
    }
   ],
   "source": [
    "s = pd.Series({'Frodo': 23, 'Gandalf': 45, 'Legolas': 33, 'Elrond': 50, 'Aragorn': 40})\n",
    "df = s.to_frame(name='Age')\n",
    "print(\"DataFrame created from Series:\\n\", df)"
   ]
  },
  {
   "cell_type": "markdown",
   "id": "fae5cb5e",
   "metadata": {},
   "source": [
    "19. Replace NaN with 0.\n"
   ]
  },
  {
   "cell_type": "code",
   "execution_count": 57,
   "id": "21241671",
   "metadata": {},
   "outputs": [
    {
     "name": "stdout",
     "output_type": "stream",
     "text": [
      "Original Series with NaN values:\n",
      " 0    22.0\n",
      "1     NaN\n",
      "2     NaN\n",
      "3    55.0\n",
      "4     NaN\n",
      "5    66.0\n",
      "dtype: float64\n",
      "Series after replacing NaN with 0:\n",
      " 0    22.0\n",
      "1     0.0\n",
      "2     0.0\n",
      "3    55.0\n",
      "4     0.0\n",
      "5    66.0\n",
      "dtype: float64\n"
     ]
    }
   ],
   "source": [
    "s = pd.Series([22, np.nan, np.nan, 55, np.nan, 66])\n",
    "print(\"Original Series with NaN values:\\n\", s)\n",
    "s_filled = s.fillna(0)\n",
    "print(\"Series after replacing NaN with 0:\\n\", s_filled)"
   ]
  },
  {
   "cell_type": "markdown",
   "id": "410fb0f9",
   "metadata": {},
   "source": [
    "20. Drop missing values.\n"
   ]
  },
  {
   "cell_type": "code",
   "execution_count": 42,
   "id": "c4cdbd54",
   "metadata": {},
   "outputs": [
    {
     "name": "stdout",
     "output_type": "stream",
     "text": [
      "Original Series with NaN values:\n",
      " 0       Haweye\n",
      "1          NaN\n",
      "2    Shang-chi\n",
      "3       Nebula\n",
      "4          NaN\n",
      "5       Gamora\n",
      "dtype: object\n",
      "Series after dropping NaN values:\n",
      " 0       Haweye\n",
      "2    Shang-chi\n",
      "3       Nebula\n",
      "5       Gamora\n",
      "dtype: object\n"
     ]
    }
   ],
   "source": [
    "s = pd.Series(['Haweye', np.nan,'Shang-chi','Nebula', np.nan,'Gamora'])\n",
    "print(\"Original Series with NaN values:\\n\", s)  \n",
    "s_dropped = s.dropna()\n",
    "print(\"Series after dropping NaN values:\\n\", s_dropped)"
   ]
  },
  {
   "cell_type": "markdown",
   "id": "8cd11f96",
   "metadata": {},
   "source": [
    "21. Check Series data type.\n",
    "\n"
   ]
  },
  {
   "cell_type": "code",
   "execution_count": 76,
   "id": "b095dfb0",
   "metadata": {},
   "outputs": [
    {
     "name": "stdout",
     "output_type": "stream",
     "text": [
      "Data type of the Series s1: int64\n",
      "Data type of the Series s2: float64\n",
      "Data type of the Series s3: float64\n",
      "Data type of the Series s4: object\n"
     ]
    }
   ],
   "source": [
    "s1= pd.Series([22, 33, 44, 66])\n",
    "s2 = pd.Series([2.2, 3.3, 4.4, 6.6])\n",
    "s3= pd.Series([np.nan, np.nan, np.nan, np.nan])\n",
    "s4=pd.Series(['Alex','Bob', 'Charlie', 'David'])\n",
    "\n",
    "print(\"Data type of the Series s1:\", s1.dtype)\n",
    "print(\"Data type of the Series s2:\", s2.dtype)\n",
    "print(\"Data type of the Series s3:\", s3.dtype)\n",
    "print(\"Data type of the Series s4:\", s4.dtype)"
   ]
  },
  {
   "cell_type": "markdown",
   "id": "4cbe802e",
   "metadata": {},
   "source": [
    "~ Padma Rani Nayak ~"
   ]
  }
 ],
 "metadata": {
  "kernelspec": {
   "display_name": "base",
   "language": "python",
   "name": "python3"
  },
  "language_info": {
   "codemirror_mode": {
    "name": "ipython",
    "version": 3
   },
   "file_extension": ".py",
   "mimetype": "text/x-python",
   "name": "python",
   "nbconvert_exporter": "python",
   "pygments_lexer": "ipython3",
   "version": "3.11.5"
  }
 },
 "nbformat": 4,
 "nbformat_minor": 5
}
