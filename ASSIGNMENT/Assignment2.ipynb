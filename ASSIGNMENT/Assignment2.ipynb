{
 "cells": [
  {
   "cell_type": "markdown",
   "id": "003d8484",
   "metadata": {},
   "source": [
    "Date-23/05/25"
   ]
  },
  {
   "cell_type": "markdown",
   "id": "839a2481",
   "metadata": {},
   "source": [
    "\n",
    "##### 1.Write a function to check if a number is prime"
   ]
  },
  {
   "cell_type": "code",
   "execution_count": 13,
   "id": "9dd5e33c",
   "metadata": {},
   "outputs": [
    {
     "name": "stdout",
     "output_type": "stream",
     "text": [
      "6 is not a prime no\n"
     ]
    }
   ],
   "source": [
    "def isprime(n):\n",
    "    f=True\n",
    "    for i in range(2,n//2):\n",
    "        if (n%i==0):\n",
    "            print(n, \"is not a prime no\") \n",
    "            f=False\n",
    "            break\n",
    "    if(f==True):    \n",
    "            print(n,\"is a prime No.\")\n",
    "n=int(input(\"enter value=\"))\n",
    "\n",
    "isprime(n)"
   ]
  },
  {
   "cell_type": "markdown",
   "id": "c1a261f5",
   "metadata": {},
   "source": [
    " ##### 2. Create a function to calculate area of a rectangle"
   ]
  },
  {
   "cell_type": "code",
   "execution_count": 4,
   "id": "e0067b81",
   "metadata": {},
   "outputs": [
    {
     "name": "stdout",
     "output_type": "stream",
     "text": [
      "Length is : 3\n",
      "Breadth is : 4\n",
      "Area is: 12\n"
     ]
    }
   ],
   "source": [
    "def area(l,b):\n",
    "    return l*b\n",
    "l=int(input(\"Enter length=\",))\n",
    "print(\"Length is :\",l)\n",
    "b=int(input(\"Enter Breadth=\"))\n",
    "print(\"Breadth is :\",b)\n",
    "print(\"Area is:\",area(l,b))"
   ]
  },
  {
   "cell_type": "markdown",
   "id": "e35692d5",
   "metadata": {},
   "source": [
    "##### 3. create a function to find maximum of three numbers"
   ]
  },
  {
   "cell_type": "code",
   "execution_count": 15,
   "id": "8a0097ee",
   "metadata": {},
   "outputs": [
    {
     "name": "stdout",
     "output_type": "stream",
     "text": [
      "45\n"
     ]
    }
   ],
   "source": [
    "def max(a,b,c):\n",
    "    if (a>b and a>c):\n",
    "        print(a)\n",
    "    elif (b>a and b>c):\n",
    "        print(b)\n",
    "    elif (c>a and c>b):\n",
    "        print(c)\n",
    "a=int(input(\"Enter value of a=\"))\n",
    "b=int(input(\"Enter value of b=\"))\n",
    "c=int(input(\"Enter value of c=\"))\n",
    "(max(a,b,c))"
   ]
  },
  {
   "cell_type": "markdown",
   "id": "3acb5fe8",
   "metadata": {},
   "source": [
    "#### 4.Write a function to reverse a string\n"
   ]
  },
  {
   "cell_type": "code",
   "execution_count": null,
   "id": "5822423b",
   "metadata": {},
   "outputs": [
    {
     "data": {
      "text/plain": [
       "'olleH'"
      ]
     },
     "execution_count": 22,
     "metadata": {},
     "output_type": "execute_result"
    }
   ],
   "source": [
    "# s=\"Hello\"\n",
    "\n",
    "def rev(s):\n",
    "    s=\"Hello\"\n",
    "    return s[::-1]\n",
    "rev(s)"
   ]
  },
  {
   "cell_type": "markdown",
   "id": "839cacd5",
   "metadata": {},
   "source": [
    "##### 5.create a function to count no. of vowels in a string "
   ]
  },
  {
   "cell_type": "code",
   "execution_count": 14,
   "id": "7f0c4a48",
   "metadata": {},
   "outputs": [
    {
     "name": "stdout",
     "output_type": "stream",
     "text": [
      "String= Wakanda Forever \n",
      "No of vowels in the string= 6\n"
     ]
    }
   ],
   "source": [
    "def vow(s):\n",
    "    v=0\n",
    "    for i in s:\n",
    "          if(i=='a' or i=='e' or i=='i' or i=='o' or i=='u' or i=='A' or i=='E' or i=='I' or i=='O' or i=='U'):\n",
    "            v=v+1\n",
    "    return v\n",
    "s=input(\"Enter String=\")\n",
    "print(\"String=\",s)\n",
    "print(\"No of vowels in the string=\",vow(s))"
   ]
  },
  {
   "cell_type": "markdown",
   "id": "bbca578f",
   "metadata": {},
   "source": [
    "##### 6.Write a function to check if a string is a palindrome"
   ]
  },
  {
   "cell_type": "code",
   "execution_count": 13,
   "id": "197b83eb",
   "metadata": {},
   "outputs": [
    {
     "name": "stdout",
     "output_type": "stream",
     "text": [
      "True\n",
      "False\n"
     ]
    }
   ],
   "source": [
    "def is_palindrome(s):\n",
    "    return s == s[::-1]\n",
    "\n",
    "print(is_palindrome(\"maam\"))\n",
    "print(is_palindrome(\"rain\"))"
   ]
  },
  {
   "cell_type": "markdown",
   "id": "8ef7b5f1",
   "metadata": {},
   "source": [
    "##### 7. Create a function to calculate sum of a list of numbers "
   ]
  },
  {
   "cell_type": "code",
   "execution_count": 16,
   "id": "57d6291e",
   "metadata": {},
   "outputs": [
    {
     "name": "stdout",
     "output_type": "stream",
     "text": [
      "Sum: 55\n"
     ]
    }
   ],
   "source": [
    "def sum(n):\n",
    "    total = 0\n",
    "    for num in n:\n",
    "        total += num\n",
    "    return total\n",
    "\n",
    "my_list = [1, 2, 3, 4, 15, 30]\n",
    "print(\"Sum:\", sum(my_list))\n"
   ]
  },
  {
   "cell_type": "markdown",
   "id": "11a205bf",
   "metadata": {},
   "source": [
    "##### 8. Write a function to return the Fibonacci sequence up to n terms. \n"
   ]
  },
  {
   "cell_type": "code",
   "execution_count": null,
   "id": "0c876770",
   "metadata": {},
   "outputs": [
    {
     "name": "stdout",
     "output_type": "stream",
     "text": [
      "144\n"
     ]
    }
   ],
   "source": [
    "def Fibonacci(n):\n",
    "    if n<= 0:\n",
    "        print(\"Incorrect input\")\n",
    "    # First Fibonacci number is 0\n",
    "    elif n == 1:\n",
    "        return 0\n",
    "    # Second Fibonacci number is 1\n",
    "    elif n == 2:\n",
    "        return 1\n",
    "    else:\n",
    "        return Fibonacci(n-1)+Fibonacci(n-2)\n",
    "\n",
    "print(Fibonacci(13))"
   ]
  },
  {
   "cell_type": "markdown",
   "id": "f73452f8",
   "metadata": {},
   "source": [
    "#### 9. Write a function to convert Celsius to Fahrenheit. "
   ]
  },
  {
   "cell_type": "code",
   "execution_count": 22,
   "id": "eecaca3a",
   "metadata": {},
   "outputs": [
    {
     "name": "stdout",
     "output_type": "stream",
     "text": [
      "34°C is 93.2°F\n"
     ]
    }
   ],
   "source": [
    "def c_to_f(c):\n",
    "    f = (c * 9/5) + 32\n",
    "    return f\n",
    "\n",
    "temp_c =int(input(\"Enter Temperature in celcius:\"))\n",
    "temp_f = c_to_f(temp_c)\n",
    "print(f\"{temp_c}°C is {temp_f}°F\")"
   ]
  },
  {
   "cell_type": "markdown",
   "id": "217e28be",
   "metadata": {},
   "source": [
    "##### 10. Write a function to find the minimum value in a list. \n"
   ]
  },
  {
   "cell_type": "code",
   "execution_count": 12,
   "id": "794190be",
   "metadata": {},
   "outputs": [
    {
     "name": "stdout",
     "output_type": "stream",
     "text": [
      "Minimum value: 18\n"
     ]
    }
   ],
   "source": [
    "def find_minimum(numbers):\n",
    "    if not numbers:\n",
    "        return None \n",
    "\n",
    "    min_value = numbers[0]\n",
    "    for num in numbers:\n",
    "        if num < min_value:\n",
    "            min_value = num\n",
    "    return min_value\n",
    "\n",
    "my_list = [50, 33, 18, 100 ,54 ,99, 101.2]\n",
    "print(\"Minimum value:\", find_minimum(my_list))\n"
   ]
  },
  {
   "cell_type": "markdown",
   "id": "e3d8f5b4",
   "metadata": {},
   "source": [
    "##### 11. Create a function to count how many times a character appears in a string. "
   ]
  },
  {
   "cell_type": "code",
   "execution_count": 19,
   "id": "436e0de6",
   "metadata": {},
   "outputs": [
    {
     "name": "stdout",
     "output_type": "stream",
     "text": [
      "{'h': 1, 'e': 1, 'l': 2, 'o': 1}\n"
     ]
    }
   ],
   "source": [
    "def count_all_chars(string):\n",
    "    counts = {}\n",
    "    for c in string:\n",
    "        if c in counts:\n",
    "            counts[c] += 1\n",
    "        else:\n",
    "            counts[c] = 1\n",
    "    return counts\n",
    "\n",
    "print(count_all_chars(\"hello\"))"
   ]
  },
  {
   "cell_type": "markdown",
   "id": "da76a926",
   "metadata": {},
   "source": [
    "#### 12. Write a function to check if a number is a perfect number. "
   ]
  },
  {
   "cell_type": "code",
   "execution_count": 31,
   "id": "71942b36",
   "metadata": {},
   "outputs": [
    {
     "name": "stdout",
     "output_type": "stream",
     "text": [
      "6 is a perfect number\n"
     ]
    }
   ],
   "source": [
    "def is_perfect_number(n):\n",
    "    sum = 0\n",
    "    \n",
    "    for x in range(1, n):\n",
    "        if n % x == 0:\n",
    "            sum += x\n",
    "    return sum == n\n",
    "\n",
    "n=int(input(\"Enter the number:\"))\n",
    "\n",
    "if is_perfect_number(n):\n",
    "    print(n,\"is a perfect number\")\n",
    "else:\n",
    "    print(n,\"is not a perfect number\")\n"
   ]
  },
  {
   "cell_type": "markdown",
   "id": "96bb8f69",
   "metadata": {},
   "source": [
    "#### 13. Create a function to find the sum of digits of a number. "
   ]
  },
  {
   "cell_type": "code",
   "execution_count": 1,
   "id": "9dd94605",
   "metadata": {},
   "outputs": [
    {
     "ename": "IndentationError",
     "evalue": "expected an indented block after function definition on line 1 (2138358619.py, line 2)",
     "output_type": "error",
     "traceback": [
      "\u001b[1;36m  Cell \u001b[1;32mIn[1], line 2\u001b[1;36m\u001b[0m\n\u001b[1;33m    sum = 0\u001b[0m\n\u001b[1;37m    ^\u001b[0m\n\u001b[1;31mIndentationError\u001b[0m\u001b[1;31m:\u001b[0m expected an indented block after function definition on line 1\n"
     ]
    }
   ],
   "source": [
    "def sum_of_digits(n):\n",
    "sum = 0\n",
    "\n",
    "while n > 0:\n",
    "    sum += n % 10\n",
    "    n = n // 10\n",
    "n=int(input(\"Enter digits:\"))\n",
    "print(\"Digits are:\",n)\n",
    "print(\"Sum of digits:\", sum_of_digits(n))\n"
   ]
  },
  {
   "cell_type": "code",
   "execution_count": null,
   "id": "7aad0eab",
   "metadata": {},
   "outputs": [],
   "source": []
  }
 ],
 "metadata": {
  "kernelspec": {
   "display_name": "base",
   "language": "python",
   "name": "python3"
  },
  "language_info": {
   "codemirror_mode": {
    "name": "ipython",
    "version": 3
   },
   "file_extension": ".py",
   "mimetype": "text/x-python",
   "name": "python",
   "nbconvert_exporter": "python",
   "pygments_lexer": "ipython3",
   "version": "3.11.5"
  }
 },
 "nbformat": 4,
 "nbformat_minor": 5
}
