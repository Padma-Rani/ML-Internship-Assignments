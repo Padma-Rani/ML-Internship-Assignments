{
 "cells": [
  {
   "cell_type": "markdown",
   "id": "003d8484",
   "metadata": {},
   "source": [
    "Date-23/05/25"
   ]
  },
  {
   "cell_type": "markdown",
   "id": "839a2481",
   "metadata": {},
   "source": [
    "\n",
    "##### 1.Write a function to check if a number is prime"
   ]
  },
  {
   "cell_type": "code",
   "execution_count": 13,
   "id": "9dd5e33c",
   "metadata": {},
   "outputs": [
    {
     "name": "stdout",
     "output_type": "stream",
     "text": [
      "6 is not a prime no\n"
     ]
    }
   ],
   "source": [
    "def isprime(n):\n",
    "    f=True\n",
    "    for i in range(2,n//2):\n",
    "        if (n%i==0):\n",
    "            print(n, \"is not a prime no\") \n",
    "            f=False\n",
    "            break\n",
    "    if(f==True):    \n",
    "            print(n,\"is a prime No.\")\n",
    "n=int(input(\"enter value=\"))\n",
    "\n",
    "isprime(n)"
   ]
  },
  {
   "cell_type": "markdown",
   "id": "c1a261f5",
   "metadata": {},
   "source": [
    " ##### 2. Create a function to calculate area of a rectangle"
   ]
  },
  {
   "cell_type": "code",
   "execution_count": 4,
   "id": "e0067b81",
   "metadata": {},
   "outputs": [
    {
     "name": "stdout",
     "output_type": "stream",
     "text": [
      "Length is : 3\n",
      "Breadth is : 4\n",
      "Area is: 12\n"
     ]
    }
   ],
   "source": [
    "def area(l,b):\n",
    "    return l*b\n",
    "l=int(input(\"Enter length=\",))\n",
    "print(\"Length is :\",l)\n",
    "b=int(input(\"Enter Breadth=\"))\n",
    "print(\"Breadth is :\",b)\n",
    "print(\"Area is:\",area(l,b))"
   ]
  },
  {
   "cell_type": "markdown",
   "id": "e35692d5",
   "metadata": {},
   "source": [
    "##### 3. create a function to find maximum of three numbers"
   ]
  },
  {
   "cell_type": "code",
   "execution_count": 15,
   "id": "8a0097ee",
   "metadata": {},
   "outputs": [
    {
     "name": "stdout",
     "output_type": "stream",
     "text": [
      "45\n"
     ]
    }
   ],
   "source": [
    "def max(a,b,c):\n",
    "    if (a>b and a>c):\n",
    "        print(a)\n",
    "    elif (b>a and b>c):\n",
    "        print(b)\n",
    "    elif (c>a and c>b):\n",
    "        print(c)\n",
    "a=int(input(\"Enter value of a=\"))\n",
    "b=int(input(\"Enter value of b=\"))\n",
    "c=int(input(\"Enter value of c=\"))\n",
    "(max(a,b,c))"
   ]
  },
  {
   "cell_type": "markdown",
   "id": "3acb5fe8",
   "metadata": {},
   "source": [
    "#### 4.Write a function to reverse a string\n"
   ]
  },
  {
   "cell_type": "code",
   "execution_count": null,
   "id": "5822423b",
   "metadata": {},
   "outputs": [
    {
     "data": {
      "text/plain": [
       "'olleH'"
      ]
     },
     "execution_count": 22,
     "metadata": {},
     "output_type": "execute_result"
    }
   ],
   "source": [
    "# s=\"Hello\"\n",
    "\n",
    "def rev(s):\n",
    "    s=\"Hello\"\n",
    "    return s[::-1]\n",
    "rev(s)"
   ]
  },
  {
   "cell_type": "markdown",
   "id": "839cacd5",
   "metadata": {},
   "source": [
    "##### 5.create a function to count no. of vowels in a string "
   ]
  },
  {
   "cell_type": "code",
   "execution_count": 14,
   "id": "7f0c4a48",
   "metadata": {},
   "outputs": [
    {
     "name": "stdout",
     "output_type": "stream",
     "text": [
      "String= Wakanda Forever \n",
      "No of vowels in the string= 6\n"
     ]
    }
   ],
   "source": [
    "def vow(s):\n",
    "    v=0\n",
    "    for i in s:\n",
    "          if(i=='a' or i=='e' or i=='i' or i=='o' or i=='u' or i=='A' or i=='E' or i=='I' or i=='O' or i=='U'):\n",
    "            v=v+1\n",
    "    return v\n",
    "s=input(\"Enter String=\")\n",
    "print(\"String=\",s)\n",
    "print(\"No of vowels in the string=\",vow(s))"
   ]
  },
  {
   "cell_type": "markdown",
   "id": "bbca578f",
   "metadata": {},
   "source": [
    "##### 6.Write a function to check if a string is a palindrome"
   ]
  },
  {
   "cell_type": "code",
   "execution_count": 13,
   "id": "197b83eb",
   "metadata": {},
   "outputs": [
    {
     "name": "stdout",
     "output_type": "stream",
     "text": [
      "True\n",
      "False\n"
     ]
    }
   ],
   "source": [
    "def is_palindrome(s):\n",
    "    return s == s[::-1]\n",
    "\n",
    "print(is_palindrome(\"maam\"))\n",
    "print(is_palindrome(\"rain\"))"
   ]
  },
  {
   "cell_type": "markdown",
   "id": "8ef7b5f1",
   "metadata": {},
   "source": [
    "##### 7. Create a function to calculate sum of a list of numbers "
   ]
  },
  {
   "cell_type": "code",
   "execution_count": 16,
   "id": "57d6291e",
   "metadata": {},
   "outputs": [
    {
     "name": "stdout",
     "output_type": "stream",
     "text": [
      "Sum: 55\n"
     ]
    }
   ],
   "source": [
    "def sum(n):\n",
    "    total = 0\n",
    "    for num in n:\n",
    "        total += num\n",
    "    return total\n",
    "\n",
    "my_list = [1, 2, 3, 4, 15, 30]\n",
    "print(\"Sum:\", sum(my_list))\n"
   ]
  },
  {
   "cell_type": "markdown",
   "id": "11a205bf",
   "metadata": {},
   "source": [
    "##### 8. Write a function to return the Fibonacci sequence up to n terms. \n"
   ]
  },
  {
   "cell_type": "code",
   "execution_count": null,
   "id": "0c876770",
   "metadata": {},
   "outputs": [
    {
     "name": "stdout",
     "output_type": "stream",
     "text": [
      "144\n"
     ]
    }
   ],
   "source": [
    "def Fibonacci(n):\n",
    "    if n<= 0:\n",
    "        print(\"Incorrect input\")\n",
    "    # First Fibonacci number is 0\n",
    "    elif n == 1:\n",
    "        return 0\n",
    "    # Second Fibonacci number is 1\n",
    "    elif n == 2:\n",
    "        return 1\n",
    "    else:\n",
    "        return Fibonacci(n-1)+Fibonacci(n-2)\n",
    "\n",
    "print(Fibonacci(13))"
   ]
  },
  {
   "cell_type": "markdown",
   "id": "f73452f8",
   "metadata": {},
   "source": [
    "#### 9. Write a function to convert Celsius to Fahrenheit. "
   ]
  },
  {
   "cell_type": "code",
   "execution_count": 22,
   "id": "eecaca3a",
   "metadata": {},
   "outputs": [
    {
     "name": "stdout",
     "output_type": "stream",
     "text": [
      "34°C is 93.2°F\n"
     ]
    }
   ],
   "source": [
    "def c_to_f(c):\n",
    "    f = (c * 9/5) + 32\n",
    "    return f\n",
    "\n",
    "temp_c =int(input(\"Enter Temperature in celcius:\"))\n",
    "temp_f = c_to_f(temp_c)\n",
    "print(f\"{temp_c}°C is {temp_f}°F\")"
   ]
  },
  {
   "cell_type": "markdown",
   "id": "217e28be",
   "metadata": {},
   "source": [
    "##### 10. Write a function to find the minimum value in a list. \n"
   ]
  },
  {
   "cell_type": "code",
   "execution_count": 12,
   "id": "794190be",
   "metadata": {},
   "outputs": [
    {
     "name": "stdout",
     "output_type": "stream",
     "text": [
      "Minimum value: 18\n"
     ]
    }
   ],
   "source": [
    "def find_minimum(numbers):\n",
    "    if not numbers:\n",
    "        return None \n",
    "\n",
    "    min_value = numbers[0]\n",
    "    for num in numbers:\n",
    "        if num < min_value:\n",
    "            min_value = num\n",
    "    return min_value\n",
    "\n",
    "my_list = [50, 33, 18, 100 ,54 ,99, 101.2]\n",
    "print(\"Minimum value:\", find_minimum(my_list))\n"
   ]
  },
  {
   "cell_type": "markdown",
   "id": "e3d8f5b4",
   "metadata": {},
   "source": [
    "##### 11. Create a function to count how many times a character appears in a string. "
   ]
  },
  {
   "cell_type": "code",
   "execution_count": 19,
   "id": "436e0de6",
   "metadata": {},
   "outputs": [
    {
     "name": "stdout",
     "output_type": "stream",
     "text": [
      "{'h': 1, 'e': 1, 'l': 2, 'o': 1}\n"
     ]
    }
   ],
   "source": [
    "def count_all_chars(string):\n",
    "    counts = {}\n",
    "    for c in string:\n",
    "        if c in counts:\n",
    "            counts[c] += 1\n",
    "        else:\n",
    "            counts[c] = 1\n",
    "    return counts\n",
    "\n",
    "print(count_all_chars(\"hello\"))"
   ]
  },
  {
   "cell_type": "markdown",
   "id": "da76a926",
   "metadata": {},
   "source": [
    "#### 12. Write a function to check if a number is a perfect number. "
   ]
  },
  {
   "cell_type": "code",
   "execution_count": 31,
   "id": "71942b36",
   "metadata": {},
   "outputs": [
    {
     "name": "stdout",
     "output_type": "stream",
     "text": [
      "6 is a perfect number\n"
     ]
    }
   ],
   "source": [
    "def is_perfect_number(n):\n",
    "    sum = 0\n",
    "    \n",
    "    for x in range(1, n):\n",
    "        if n % x == 0:\n",
    "            sum += x\n",
    "    return sum == n\n",
    "\n",
    "n=int(input(\"Enter the number:\"))\n",
    "\n",
    "if is_perfect_number(n):\n",
    "    print(n,\"is a perfect number\")\n",
    "else:\n",
    "    print(n,\"is not a perfect number\")\n"
   ]
  },
  {
   "cell_type": "markdown",
   "id": "96bb8f69",
   "metadata": {},
   "source": [
    "#### 13. Create a function to find the sum of digits of a number. "
   ]
  },
  {
   "cell_type": "code",
   "execution_count": 10,
   "id": "9dd94605",
   "metadata": {},
   "outputs": [
    {
     "name": "stdout",
     "output_type": "stream",
     "text": [
      "Entered number is: 55\n"
     ]
    },
    {
     "data": {
      "text/plain": [
       "10"
      ]
     },
     "execution_count": 10,
     "metadata": {},
     "output_type": "execute_result"
    }
   ],
   "source": [
    "def sumOfDigits(num):\n",
    "    sum=0    \n",
    "    for i in num:\n",
    "        sum=sum+int(i)\n",
    "    return sum\n",
    "\n",
    "num=input('Enter a number: ')\n",
    "print('Entered number is:',num)\n",
    "sumOfDigits(num)"
   ]
  },
  {
   "cell_type": "markdown",
   "id": "e2be6069",
   "metadata": {},
   "source": [
    "##### 14. Write a function that takes a string and returns a dictionary of character frequencies. \n"
   ]
  },
  {
   "cell_type": "code",
   "execution_count": 20,
   "id": "7aad0eab",
   "metadata": {},
   "outputs": [
    {
     "name": "stdout",
     "output_type": "stream",
     "text": [
      "Entered string is: Hope is the only thing stronger than fear \n",
      "{'H': 1, 'o': 3, 'p': 1, 'e': 4, ' ': 8, 'i': 2, 's': 2, 't': 4, 'h': 3, 'n': 4, 'l': 1, 'y': 1, 'g': 2, 'r': 3, 'a': 2, 'f': 1}\n"
     ]
    }
   ],
   "source": [
    "def freq(s):\n",
    "    dict = {}\n",
    "    for c in s:\n",
    "        if c in dict:\n",
    "            dict[c] += 1\n",
    "        else:\n",
    "            dict[c] = 1\n",
    "    return dict\n",
    "\n",
    "s=input(\"Enter a string:\")\n",
    "print(\"Entered string is:\",s)\n",
    "print(freq(s))\n"
   ]
  },
  {
   "cell_type": "markdown",
   "id": "c5290119",
   "metadata": {},
   "source": [
    "#### 15. Write a function that returns the average of a list of numbers. "
   ]
  },
  {
   "cell_type": "code",
   "execution_count": 24,
   "id": "8babf551",
   "metadata": {},
   "outputs": [
    {
     "name": "stdout",
     "output_type": "stream",
     "text": [
      "Average of the numbers is: 5.5\n"
     ]
    }
   ],
   "source": [
    "def avg(numbers):\n",
    "    return sum(numbers) / len(numbers)  \n",
    "\n",
    "numbers = [1, 2, 3, 4, 5, 6, 7, 8, 9, 10]\n",
    "print(\"Average of the numbers is:\",avg(numbers))     \n",
    "    "
   ]
  },
  {
   "cell_type": "markdown",
   "id": "43d3706c",
   "metadata": {},
   "source": [
    "#### 16. Create a function that accepts a number and prints its multiplication table."
   ]
  },
  {
   "cell_type": "code",
   "execution_count": 26,
   "id": "c498ee59",
   "metadata": {},
   "outputs": [
    {
     "name": "stdout",
     "output_type": "stream",
     "text": [
      "Multiplication Table of 51\n",
      "51 x 1 = 51\n",
      "51 x 2 = 102\n",
      "51 x 3 = 153\n",
      "51 x 4 = 204\n",
      "51 x 5 = 255\n",
      "51 x 6 = 306\n",
      "51 x 7 = 357\n",
      "51 x 8 = 408\n",
      "51 x 9 = 459\n",
      "51 x 10 = 510\n",
      "None\n"
     ]
    }
   ],
   "source": [
    "def multiplication(number):\n",
    "    for i in range(1, 11):\n",
    "        print(f\"{number} x {i} = {number * i}\")\n",
    "\n",
    "number=int(input(\"Enter a number:\"))\n",
    "print(\"Multiplication Table of\",number)\n",
    "print(multiplication(number))\n"
   ]
  },
  {
   "cell_type": "markdown",
   "id": "34d52779",
   "metadata": {},
   "source": [
    "#### 17. Write a function that accepts a list and returns the list in reverse order. "
   ]
  },
  {
   "cell_type": "code",
   "execution_count": 31,
   "id": "d8dd5802",
   "metadata": {},
   "outputs": [
    {
     "name": "stdout",
     "output_type": "stream",
     "text": [
      "Original List is: ['Jenny', 'scored', 89.5, 'in', 'Maths', 2022]\n",
      "[2022, 'Maths', 'in', 89.5, 'scored', 'Jenny']\n"
     ]
    }
   ],
   "source": [
    "def reverse_list(lst):\n",
    "    return lst[::-1]\n",
    "s=['Jenny','scored',89.5, 'in','Maths', 2022]\n",
    "print(\"Original List is:\",s)\n",
    "print(reverse_list(s))"
   ]
  },
  {
   "cell_type": "markdown",
   "id": "2950df9c",
   "metadata": {},
   "source": [
    "#### 18. Write a function to find the second largest number in a list. "
   ]
  },
  {
   "cell_type": "code",
   "execution_count": 2,
   "id": "1dda4c02",
   "metadata": {},
   "outputs": [
    {
     "name": "stdout",
     "output_type": "stream",
     "text": [
      "Original List is: [55, 34, 23, 74, 66, 80, 49, 100]\n",
      "Second largest number is: 80\n"
     ]
    }
   ],
   "source": [
    "def Second_Largest(list):\n",
    "    max1=max2=0\n",
    "    for i in list:\n",
    "        if i>max1:\n",
    "            max2=max1\n",
    "            max1=i\n",
    "    \n",
    "        elif i > max2 and i != max1:\n",
    "            max2=i\n",
    "    return max2\n",
    "list=[55,34,23,74,66,80,49,100]\n",
    "print(\"Original List is:\",list)\n",
    "print(\"Second largest number is:\", Second_Largest(list))"
   ]
  },
  {
   "cell_type": "markdown",
   "id": "152e457f",
   "metadata": {},
   "source": [
    "#### 19. Create a function that accepts a list of integers and returns only the even ones. "
   ]
  },
  {
   "cell_type": "code",
   "execution_count": 54,
   "id": "e6b51f9e",
   "metadata": {},
   "outputs": [
    {
     "name": "stdout",
     "output_type": "stream",
     "text": [
      "Even numbers in the list are: [2, 4, 6, 8, 10]\n"
     ]
    }
   ],
   "source": [
    "def even(numbers):\n",
    "\n",
    "    return [num for num in numbers if num % 2 == 0]\n",
    "\n",
    "numbers = [1, 2, 3, 4, 5, 6, 7, 8, 9, 10]\n",
    "print(\"Even numbers in the list are:\", even(numbers))\n"
   ]
  },
  {
   "cell_type": "markdown",
   "id": "579f45d4",
   "metadata": {},
   "source": [
    "#### 20. Write a function to check if all characters in a string are unique. "
   ]
  },
  {
   "cell_type": "code",
   "execution_count": 10,
   "id": "5dfea7e4",
   "metadata": {},
   "outputs": [
    {
     "name": "stdout",
     "output_type": "stream",
     "text": [
      "The string Hey Anu contains unique characters\n",
      "The string Hello Ankita  does not contain unique characters\n"
     ]
    }
   ],
   "source": [
    "def checkUnique(string):\n",
    "    str=string.lower()\n",
    "\n",
    "    new_str=''\n",
    "    for i in str:\n",
    "        if i not in new_str:\n",
    "            new_str+=i\n",
    "            \n",
    "    if (new_str == str):\n",
    "        print(\"The string\",string,\"contains unique characters\")\n",
    "    else:\n",
    "        print(\"The string\",string,\" does not contain unique characters\")\n",
    "str=input(\"Enter a string:\")     \n",
    "checkUnique(str)\n",
    "str1=input(\"Enter a string:\")     \n",
    "checkUnique(str1)\n"
   ]
  },
  {
   "cell_type": "markdown",
   "id": "16ab1202",
   "metadata": {},
   "source": [
    "#### 21. Create a function to calculate the greatest common divisor (GCD) of two numbers. "
   ]
  },
  {
   "cell_type": "code",
   "execution_count": 12,
   "id": "979bb00a",
   "metadata": {},
   "outputs": [
    {
     "name": "stdout",
     "output_type": "stream",
     "text": [
      "GCD of 40 and 60 is\n",
      "20\n"
     ]
    }
   ],
   "source": [
    " def gcd(x,y):\n",
    "\n",
    "    if x == y or y == 0:\n",
    "        return x\n",
    "    \n",
    "    if x == 0:\n",
    "        return y\n",
    "    \n",
    "    else:\n",
    "        if x>y:\n",
    "            return gcd(x-y,y)\n",
    "        else:\n",
    "            return gcd(x,y-x)\n",
    "x=int(input(\"Enter number 1:\"))\n",
    "y=int(input(\"Enter number 2:\"))\n",
    "print(\"GCD of\",x,\"and\",y,\"is\")\n",
    "print(gcd(x,y))\n",
    "\n"
   ]
  },
  {
   "cell_type": "markdown",
   "id": "1df61249",
   "metadata": {},
   "source": [
    "#### 22. Write a function to find the least common multiple (LCM) of two numbers. "
   ]
  },
  {
   "cell_type": "code",
   "execution_count": null,
   "id": "1be4f7d2",
   "metadata": {},
   "outputs": [
    {
     "name": "stdout",
     "output_type": "stream",
     "text": [
      "LCM of 20 and 30 is 60\n"
     ]
    }
   ],
   "source": [
    "def find_lcm(a, b):\n",
    "\n",
    "    lcm = max(a, b)\n",
    "\n",
    "    while True:\n",
    "        if lcm % a == 0 and lcm % b == 0:\n",
    "            return lcm\n",
    "        lcm += 1\n",
    "\n",
    "num1 = int(input(\"Enter Number 1:\"))\n",
    "num2 = int(input(\"Enter Number 2:\"))\n",
    "print(\"LCM of\", num1, \"and\", num2, \"is\", find_lcm(num1, num2))\n"
   ]
  },
  {
   "cell_type": "markdown",
   "id": "ea92f353",
   "metadata": {},
   "source": [
    "#### 23. Create a function to remove duplicates from a list. "
   ]
  },
  {
   "cell_type": "code",
   "execution_count": 1,
   "id": "9103a78a",
   "metadata": {},
   "outputs": [
    {
     "name": "stdout",
     "output_type": "stream",
     "text": [
      "List without duplicates: [1, 2, 3, 4, 5, 6, 7]\n"
     ]
    }
   ],
   "source": [
    "def remove_duplicates(lst):\n",
    "    return list(set(lst))\n",
    "\n",
    "my_list = [1, 2, 2, 3, 4, 4, 5,6,7,7]\n",
    "unique_list = remove_duplicates(my_list)\n",
    "print(\"List without duplicates:\", unique_list)\n"
   ]
  },
  {
   "cell_type": "markdown",
   "id": "5132f9ab",
   "metadata": {},
   "source": [
    "#### 24. Write a recursive function to compute the factorial of a number. "
   ]
  },
  {
   "cell_type": "code",
   "execution_count": 2,
   "id": "92006405",
   "metadata": {},
   "outputs": [
    {
     "name": "stdout",
     "output_type": "stream",
     "text": [
      "Factorial of 5 is 120\n"
     ]
    }
   ],
   "source": [
    "def factorial(n):\n",
    "    if n == 0 or n == 1:\n",
    "        return 1\n",
    "    else:\n",
    "        return n * factorial(n - 1)\n",
    "\n",
    "n=int(input(\"Enter the Number:\"))\n",
    "print(f\"Factorial of {n} is {factorial(n)}\")\n"
   ]
  },
  {
   "cell_type": "markdown",
   "id": "f8749baf",
   "metadata": {},
   "source": [
    "#### 25. Create a function that checks if a number is an Armstrong number. "
   ]
  },
  {
   "cell_type": "code",
   "execution_count": null,
   "id": "3b22464b",
   "metadata": {},
   "outputs": [
    {
     "name": "stdout",
     "output_type": "stream",
     "text": [
      "153 is an Armstrong number.\n"
     ]
    }
   ],
   "source": [
    "def is_armstrong(number):\n",
    "\n",
    "    num_str = str(number)\n",
    "    num_digits = len(num_str)\n",
    "    \n",
    "    total = sum(int(digit) ** num_digits for digit in num_str)\n",
    "    \n",
    "    return total == number\n",
    "-\n",
    "num = int(input(\"Enter a number: \"))\n",
    "if is_armstrong(num):\n",
    "    print(f\"{num} is an Armstrong number.\")\n",
    "else:\n",
    "    print(f\"{num} is not an Armstrong number.\")\n"
   ]
  },
  {
   "cell_type": "markdown",
   "id": "0a2ae4d2",
   "metadata": {},
   "source": [
    "#### 26. Write a function that returns all prime numbers up to n. "
   ]
  },
  {
   "cell_type": "code",
   "execution_count": 6,
   "id": "03dc93ef",
   "metadata": {},
   "outputs": [
    {
     "name": "stdout",
     "output_type": "stream",
     "text": [
      "[2, 3, 5, 7, 11, 13, 17, 19, 23, 29, 31, 37]\n"
     ]
    }
   ],
   "source": [
    "def get_primes_up_to(n):\n",
    "    primes = []\n",
    "    for num in range(2, n + 1):\n",
    "        for i in range(2, num):\n",
    "            if num % i == 0:\n",
    "                break\n",
    "        else:\n",
    "            primes.append(num)\n",
    "    return primes\n",
    "\n",
    "print(get_primes_up_to(40)) "
   ]
  },
  {
   "cell_type": "markdown",
   "id": "2b404a4a",
   "metadata": {},
   "source": [
    "#### 27. Create a function that accepts a sentence and returns the longest word. "
   ]
  },
  {
   "cell_type": "code",
   "execution_count": 8,
   "id": "66284034",
   "metadata": {},
   "outputs": [
    {
     "name": "stdout",
     "output_type": "stream",
     "text": [
      "Longest word is: strawberries\n"
     ]
    }
   ],
   "source": [
    "def find_longest_word(sentence):\n",
    "    words = sentence.split()\n",
    "    r = \"\"\n",
    "    for word in words:\n",
    "        if len(word) > len(r):\n",
    "            r = word\n",
    "    return r\n",
    "s = \"Bananas are berries, but strawberries aren't\"\n",
    "print(\"Longest word is:\",find_longest_word(s))"
   ]
  },
  {
   "cell_type": "markdown",
   "id": "b3716a6b",
   "metadata": {},
   "source": [
    "#### 28. Write a function to compute the power of a number using recursion. "
   ]
  },
  {
   "cell_type": "code",
   "execution_count": 13,
   "id": "0c7febcb",
   "metadata": {},
   "outputs": [
    {
     "name": "stdout",
     "output_type": "stream",
     "text": [
      "Base is: 2\n",
      "Exponential value is: 4\n",
      "Result: 16\n"
     ]
    }
   ],
   "source": [
    "def power(base,exp):\n",
    "    if(exp==1):\n",
    "        return(base)\n",
    "    if(exp!=1):\n",
    "        return(base*power(base,exp-1))\n",
    "    \n",
    "base=int(input(\"Enter base: \"))\n",
    "exp=int(input(\"Enter exponential value: \"))\n",
    "\n",
    "print(\"Base is:\", base)\n",
    "print(\"Exponential value is:\", exp)\n",
    "\n",
    "print(\"Result:\",power(base,exp))"
   ]
  },
  {
   "cell_type": "markdown",
   "id": "174b8751",
   "metadata": {},
   "source": [
    "#### 29. Create a function that flattens a nested list. "
   ]
  },
  {
   "cell_type": "code",
   "execution_count": 21,
   "id": "bce596ea",
   "metadata": {},
   "outputs": [
    {
     "name": "stdout",
     "output_type": "stream",
     "text": [
      "Flat List: [11, 22, 33, 44, 'a', 'b', 'c', 88, 99, 100]\n"
     ]
    }
   ],
   "source": [
    "def flat(lis):\n",
    "    flatList = []\n",
    "    for sublist in lis:\n",
    "        for item in sublist:\n",
    "            flatList.append(item)\n",
    "    return flatList\n",
    "\n",
    "lis = [[11, 22, 33, 44], ['a','b', 'c'], [88, 99, 100]]\n",
    "print('Flat List:', flat(lis))"
   ]
  },
  {
   "cell_type": "markdown",
   "id": "106ecb92",
   "metadata": {},
   "source": [
    "#### 30. Write a function to check if a list is sorted. "
   ]
  },
  {
   "cell_type": "code",
   "execution_count": 28,
   "id": "e922ae6f",
   "metadata": {},
   "outputs": [
    {
     "name": "stdout",
     "output_type": "stream",
     "text": [
      "Is the list sorted? True\n",
      "Is the list sorted? False\n"
     ]
    }
   ],
   "source": [
    "def is_sorted(lst):\n",
    "    return lst == sorted(lst)\n",
    "lst1 = [1, 2, 3, 4, 5]\n",
    "print(\"Is the list sorted?\", is_sorted(lst1))\n",
    "lst2 = [5, 4, 3, 2, 1]\n",
    "print(\"Is the list sorted?\", is_sorted(lst2))"
   ]
  },
  {
   "cell_type": "markdown",
   "id": "6812df96",
   "metadata": {},
   "source": [
    "#### 31. Create a function to merge two sorted lists into one sorted list. "
   ]
  },
  {
   "cell_type": "code",
   "execution_count": 29,
   "id": "36dc9e48",
   "metadata": {},
   "outputs": [
    {
     "name": "stdout",
     "output_type": "stream",
     "text": [
      "Merged List: [1, 2, 3, 4, 5, 6, 7, 8]\n"
     ]
    }
   ],
   "source": [
    "def merge_sorted_lists(list1, list2):\n",
    "    merged_list = []\n",
    "    i = j = 0\n",
    "\n",
    "    while i < len(list1) and j < len(list2):\n",
    "        if list1[i] <= list2[j]:\n",
    "            merged_list.append(list1[i])\n",
    "            i += 1\n",
    "        else:\n",
    "            merged_list.append(list2[j])\n",
    "            j += 1\n",
    "\n",
    "    while i < len(list1):\n",
    "        merged_list.append(list1[i])\n",
    "        i += 1\n",
    "\n",
    "    while j < len(list2):\n",
    "        merged_list.append(list2[j])\n",
    "        j += 1\n",
    "\n",
    "    return merged_list\n",
    "list1 = [1, 3, 5, 7]\n",
    "list2 = [2, 4, 6, 8]\n",
    "print(\"Merged List:\", merge_sorted_lists(list1, list2))"
   ]
  },
  {
   "cell_type": "markdown",
   "id": "7f2b4105",
   "metadata": {},
   "source": [
    "#### 32. Write a function to find the most frequent element in a list. "
   ]
  },
  {
   "cell_type": "code",
   "execution_count": 33,
   "id": "e7dfc3b0",
   "metadata": {},
   "outputs": [
    {
     "name": "stdout",
     "output_type": "stream",
     "text": [
      "Most Frequent Element is: 5\n"
     ]
    }
   ],
   "source": [
    "def most_frequent(List):\n",
    "    counter = 0\n",
    "    num = List[0]\n",
    "    \n",
    "    for i in List:\n",
    "        curr_frequency = List.count(i)\n",
    "        if(curr_frequency> counter):\n",
    "            counter = curr_frequency\n",
    "            num = i\n",
    "\n",
    "    return num\n",
    "\n",
    "List = [5, 1, 6, 5, 1, 3, 5, 5, 1, 6, 5, 5, 5]\n",
    "print(\"Most Frequent Element is:\",most_frequent(List))"
   ]
  },
  {
   "cell_type": "markdown",
   "id": "a5edf602",
   "metadata": {},
   "source": [
    "#### 33. Create a function that returns the median of a list. "
   ]
  },
  {
   "cell_type": "code",
   "execution_count": 35,
   "id": "73c219e6",
   "metadata": {},
   "outputs": [
    {
     "name": "stdout",
     "output_type": "stream",
     "text": [
      "4\n",
      "3.5\n"
     ]
    }
   ],
   "source": [
    "# Define a function to calculate the median of a list of numbers\n",
    "def cal_median(nums):\n",
    "    # Sort the list of numbers in ascending order\n",
    "    nums.sort()\n",
    "    \n",
    "    # Get the length of the list\n",
    "    n = len(nums)\n",
    "    \n",
    "    # Calculate the middle index\n",
    "    m = n // 2\n",
    "    \n",
    "    # Check if the length is even or odd\n",
    "    if n % 2 == 0:\n",
    "        # If even, return the average of the middle two numbers\n",
    "        return (nums[m - 1] + nums[m]) / 2\n",
    "    else:\n",
    "        # If odd, return the middle number\n",
    "        return nums[m]\n",
    "\n",
    "print(cal_median([1,2,3,4,5,6,7]))\n",
    "print(cal_median([6,1,2,4,5,3]))\n"
   ]
  },
  {
   "cell_type": "markdown",
   "id": "181741ab",
   "metadata": {},
   "source": [
    "#### 34. Create a function that finds the intersection of two lists. "
   ]
  },
  {
   "cell_type": "code",
   "execution_count": 4,
   "id": "41b6d566",
   "metadata": {},
   "outputs": [
    {
     "name": "stdout",
     "output_type": "stream",
     "text": [
      "Intersection: [11, 10, 3, 5]\n"
     ]
    }
   ],
   "source": [
    "def find_intersection(list1, list2):\n",
    "    intersection = set(list1) & set(list2)\n",
    "    return list(intersection)  \n",
    "\n",
    "list1 = [1, 2, 3, 4, 5, 10, 11, 12]\n",
    "list2 = [3, 5, 6, 7, 8, 9, 10, 11]\n",
    "\n",
    "result = find_intersection(list1, list2)\n",
    "print(\"Intersection:\", result)"
   ]
  },
  {
   "cell_type": "markdown",
   "id": "a804780e",
   "metadata": {},
   "source": [
    "#### 35. Write a function that accepts variable number of arguments and returns their product. "
   ]
  },
  {
   "cell_type": "code",
   "execution_count": 7,
   "id": "08a6379c",
   "metadata": {},
   "outputs": [
    {
     "name": "stdout",
     "output_type": "stream",
     "text": [
      "30\n",
      "60\n",
      "1\n"
     ]
    }
   ],
   "source": [
    "def product(*args):\n",
    "    result = 1\n",
    "    for num in args:\n",
    "        result *= num\n",
    "    return result\n",
    "\n",
    "print(product(5, 3, 2))  \n",
    "print(product(6, 10))    \n",
    "print(product())        "
   ]
  },
  {
   "cell_type": "markdown",
   "id": "aa73a0f6",
   "metadata": {},
   "source": [
    "#### 36. Write a function that returns a list of tuples (element, index) from a list. "
   ]
  },
  {
   "cell_type": "code",
   "execution_count": 8,
   "id": "e3482ad1",
   "metadata": {},
   "outputs": [
    {
     "name": "stdout",
     "output_type": "stream",
     "text": [
      "[('apple', 0), ('banana', 1), ('cherry', 2)]\n"
     ]
    }
   ],
   "source": [
    "def element_index_tuples(lst):\n",
    "    result = []\n",
    "    for i in range(len(lst)):\n",
    "        result.append((lst[i], i))\n",
    "    return result\n",
    "lst=['apple', 'banana', 'cherry']\n",
    "print(element_index_tuples(lst))  "
   ]
  },
  {
   "cell_type": "markdown",
   "id": "1b8da1cd",
   "metadata": {},
   "source": [
    "#### 37. Create a function that accepts a string and returns a dictionary of word counts. "
   ]
  },
  {
   "cell_type": "code",
   "execution_count": 17,
   "id": "5dde4d68",
   "metadata": {},
   "outputs": [
    {
     "name": "stdout",
     "output_type": "stream",
     "text": [
      "Word count of the string\n",
      " Run Forrest Run Run — Forrest Gump \n",
      " {'run': 3, 'forrest': 2, '—': 1, 'gump': 1}\n"
     ]
    }
   ],
   "source": [
    "def Count(string):\n",
    "    string=string.lower()\n",
    "    string=string.split(' ')\n",
    "    my_dict={}\n",
    "    for i in string:\n",
    "        if i in my_dict:\n",
    "            my_dict[i]+=1\n",
    "        else:\n",
    "            my_dict[i]=1\n",
    "    return my_dict\n",
    "\n",
    "string=input('Enter a string: ')\n",
    "print('Word count of the string\\n',string,'\\n',Count(string))"
   ]
  },
  {
   "cell_type": "markdown",
   "id": "608a60a9",
   "metadata": {},
   "source": [
    "#### 38. Write a function that checks if a sentence is a pangram. "
   ]
  },
  {
   "cell_type": "code",
   "execution_count": 22,
   "id": "3bb50122",
   "metadata": {},
   "outputs": [
    {
     "name": "stdout",
     "output_type": "stream",
     "text": [
      "True\n",
      "False\n"
     ]
    }
   ],
   "source": [
    "# A pangram is a sentence that contains every letter of the alphabet at least once.\n",
    "\n",
    "def is_pangram(sentence):\n",
    "    alphabet = set('abcdefghijklmnopqrstuvwxyz')\n",
    "    sentence = set(sentence.lower())\n",
    "    return alphabet.issubset(sentence)\n",
    "\n",
    "print(is_pangram('The quick brown fox jumps over the lazy dog'))\n",
    "print(is_pangram('Hello, world!'))  "
   ]
  },
  {
   "cell_type": "markdown",
   "id": "e329e41c",
   "metadata": {},
   "source": [
    "#### 39. Create a function that accepts a list and a value, and returns the index of the value (or -1). "
   ]
  },
  {
   "cell_type": "code",
   "execution_count": 27,
   "id": "c6ea6053",
   "metadata": {},
   "outputs": [
    {
     "name": "stdout",
     "output_type": "stream",
     "text": [
      "2\n",
      "9\n",
      "-1\n"
     ]
    }
   ],
   "source": [
    "def find_index(lst, value):\n",
    "    try:\n",
    "        return lst.index(value)\n",
    "    except ValueError:\n",
    "        return -1\n",
    "my_list = [10, 20, 30, 40,50,60,70,80,90,100]\n",
    "print(find_index(my_list, 30))  \n",
    "print(find_index(my_list, 100))  \n",
    "print(find_index(my_list, 200))  \n"
   ]
  },
  {
   "cell_type": "markdown",
   "id": "4cd08c1b",
   "metadata": {},
   "source": [
    "#### 40. Write a function that counts the number of uppercase and lowercase characters in a string. "
   ]
  },
  {
   "cell_type": "code",
   "execution_count": 30,
   "id": "547df2e0",
   "metadata": {},
   "outputs": [
    {
     "name": "stdout",
     "output_type": "stream",
     "text": [
      "String: May the Force be with you — Star Wars\n",
      "Uppercase characters: 4\n",
      "Lowercase characters: 24\n"
     ]
    }
   ],
   "source": [
    "def count(s):\n",
    "    upper = 0\n",
    "    lower = 0\n",
    "    for char in s:\n",
    "        if char.isupper():\n",
    "            upper += 1\n",
    "        elif char.islower():\n",
    "            lower += 1\n",
    "    return upper, lower\n",
    "\n",
    "s = input(\"Enter a string: \")\n",
    "print(\"String:\", s)\n",
    "upper_count, lower_count = count(s)\n",
    "print(f\"Uppercase characters: {upper_count}\")\n",
    "print(f\"Lowercase characters: {lower_count}\")"
   ]
  }
 ],
 "metadata": {
  "kernelspec": {
   "display_name": "Python 3",
   "language": "python",
   "name": "python3"
  },
  "language_info": {
   "codemirror_mode": {
    "name": "ipython",
    "version": 3
   },
   "file_extension": ".py",
   "mimetype": "text/x-python",
   "name": "python",
   "nbconvert_exporter": "python",
   "pygments_lexer": "ipython3",
   "version": "3.12.0"
  }
 },
 "nbformat": 4,
 "nbformat_minor": 5
}
