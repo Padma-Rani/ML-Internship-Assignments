{
 "cells": [
  {
   "cell_type": "markdown",
   "id": "2bbbb169",
   "metadata": {},
   "source": [
    "##### Day 06 (dt:21/05/25)\n"
   ]
  },
  {
   "cell_type": "markdown",
   "id": "3338eb78",
   "metadata": {},
   "source": [
    "### Breaking loops & Nested loops"
   ]
  },
  {
   "cell_type": "markdown",
   "id": "6e4c62b6",
   "metadata": {
    "vscode": {
     "languageId": "plaintext"
    }
   },
   "source": [
    "- outer for loop:\n",
    "-         inner for loop:"
   ]
  },
  {
   "cell_type": "markdown",
   "id": "955f8c25",
   "metadata": {},
   "source": [
    "### Functions"
   ]
  },
  {
   "cell_type": "markdown",
   "id": "80104ea0",
   "metadata": {},
   "source": [
    "- def <funtion_name>(parameters):"
   ]
  },
  {
   "cell_type": "markdown",
   "id": "e27ea74a",
   "metadata": {},
   "source": [
    "- lambda function (one line funtion)\n",
    "- syntax:lambda arguments : expression\n",
    "- eg. square= lambda x:x*x\n",
    "\n",
    "-  return function is used to end any program abruptly"
   ]
  },
  {
   "cell_type": "markdown",
   "id": "364a0eb8",
   "metadata": {},
   "source": [
    "### Break statement"
   ]
  },
  {
   "cell_type": "code",
   "execution_count": 1,
   "id": "8a10f25f",
   "metadata": {},
   "outputs": [
    {
     "name": "stdout",
     "output_type": "stream",
     "text": [
      "k\n",
      "n\n",
      "o\n",
      "w\n",
      "l\n",
      "e\n",
      "d\n",
      "g\n",
      "e\n",
      "The for loop stopped executing\n"
     ]
    }
   ],
   "source": [
    "# Declare a string variable \n",
    "\n",
    "text = \"knowledgehut\"\n",
    "for letter in text :\n",
    "        if letter == 'h':\n",
    "            break\n",
    "        print( letter)\n",
    "print(\"The for loop stopped executing\")"
   ]
  },
  {
   "cell_type": "markdown",
   "id": "5382b401",
   "metadata": {},
   "source": [
    "### Continue Statement\n"
   ]
  },
  {
   "cell_type": "code",
   "execution_count": 2,
   "id": "2d14c3ee",
   "metadata": {},
   "outputs": [
    {
     "name": "stdout",
     "output_type": "stream",
     "text": [
      "k\n",
      "n\n",
      "o\n",
      "w\n",
      "l\n",
      "e\n",
      "d\n",
      "g\n",
      "e\n",
      "The for loop skipped a space here\n",
      "h\n",
      "u\n",
      "t\n"
     ]
    }
   ],
   "source": [
    "# declare a string variable\n",
    "\n",
    "text = \"knowledge hut\"\n",
    "for letter in text :\n",
    "        if letter == ' ':\n",
    "            print(\"The for loop skipped a space here\")\n",
    "            continue\n",
    "        print( letter)"
   ]
  },
  {
   "cell_type": "code",
   "execution_count": 3,
   "id": "47180011",
   "metadata": {},
   "outputs": [
    {
     "name": "stdout",
     "output_type": "stream",
     "text": [
      "1 \n",
      "\n",
      "2 2 \n",
      "\n",
      "3 3 3 \n",
      "\n",
      "4 4 4 4 \n",
      "\n"
     ]
    }
   ],
   "source": [
    "# Print a number pattern using a for loop and range function\n",
    "# take levels form user\n",
    "\n",
    "levels = int(input(\"Enter Number of levels:\"))\n",
    "for levels in range(1,levels+1):\n",
    "    for num in range(levels):\n",
    "        print (levels, end=\" \") #print number\n",
    "    print(\"\\n\")"
   ]
  },
  {
   "cell_type": "markdown",
   "id": "f3182e01",
   "metadata": {},
   "source": [
    "### Built in function  in python"
   ]
  },
  {
   "cell_type": "code",
   "execution_count": 4,
   "id": "d0f7e44b",
   "metadata": {},
   "outputs": [
    {
     "name": "stdout",
     "output_type": "stream",
     "text": [
      "Hii Padma \n"
     ]
    }
   ],
   "source": [
    "# input() in python \n",
    "name = input(\"Enter your name: \")\n",
    "print(\"Hii\", name)"
   ]
  },
  {
   "cell_type": "markdown",
   "id": "e9604202",
   "metadata": {},
   "source": [
    "### User-defined functions"
   ]
  },
  {
   "cell_type": "code",
   "execution_count": 1,
   "id": "0fb19315",
   "metadata": {},
   "outputs": [
    {
     "name": "stdout",
     "output_type": "stream",
     "text": [
      "Hello Alice\n"
     ]
    }
   ],
   "source": [
    "def greet(name):\n",
    "    print(\"Hello\",name)\n",
    "\n",
    "greet(\"Alice\")"
   ]
  },
  {
   "cell_type": "markdown",
   "id": "c5f51353",
   "metadata": {},
   "source": [
    "### lambda Function "
   ]
  },
  {
   "cell_type": "code",
   "execution_count": 2,
   "id": "fe6fca7b",
   "metadata": {},
   "outputs": [
    {
     "name": "stdout",
     "output_type": "stream",
     "text": [
      "64\n"
     ]
    }
   ],
   "source": [
    "s= lambda x:x*x\n",
    "print(s(8))"
   ]
  }
 ],
 "metadata": {
  "kernelspec": {
   "display_name": "base",
   "language": "python",
   "name": "python3"
  },
  "language_info": {
   "codemirror_mode": {
    "name": "ipython",
    "version": 3
   },
   "file_extension": ".py",
   "mimetype": "text/x-python",
   "name": "python",
   "nbconvert_exporter": "python",
   "pygments_lexer": "ipython3",
   "version": "3.11.5"
  }
 },
 "nbformat": 4,
 "nbformat_minor": 5
}
